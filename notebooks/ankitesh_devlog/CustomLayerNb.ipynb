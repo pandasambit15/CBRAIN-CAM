{
 "cells": [
  {
   "cell_type": "code",
   "execution_count": null,
   "metadata": {},
   "outputs": [],
   "source": []
  },
  {
   "cell_type": "code",
   "execution_count": 1,
   "metadata": {
    "collapsed": true
   },
   "outputs": [
    {
     "name": "stderr",
     "output_type": "stream",
     "text": [
      "/home1/07064/tg863631/anaconda3/envs/CbrainCustomLayer/lib/python3.6/site-packages/tensorflow/python/framework/dtypes.py:523: FutureWarning: Passing (type, 1) or '1type' as a synonym of type is deprecated; in a future version of numpy, it will be understood as (type, (1,)) / '(1,)type'.\n",
      "  _np_qint8 = np.dtype([(\"qint8\", np.int8, 1)])\n",
      "/home1/07064/tg863631/anaconda3/envs/CbrainCustomLayer/lib/python3.6/site-packages/tensorflow/python/framework/dtypes.py:524: FutureWarning: Passing (type, 1) or '1type' as a synonym of type is deprecated; in a future version of numpy, it will be understood as (type, (1,)) / '(1,)type'.\n",
      "  _np_quint8 = np.dtype([(\"quint8\", np.uint8, 1)])\n",
      "/home1/07064/tg863631/anaconda3/envs/CbrainCustomLayer/lib/python3.6/site-packages/tensorflow/python/framework/dtypes.py:525: FutureWarning: Passing (type, 1) or '1type' as a synonym of type is deprecated; in a future version of numpy, it will be understood as (type, (1,)) / '(1,)type'.\n",
      "  _np_qint16 = np.dtype([(\"qint16\", np.int16, 1)])\n",
      "/home1/07064/tg863631/anaconda3/envs/CbrainCustomLayer/lib/python3.6/site-packages/tensorflow/python/framework/dtypes.py:526: FutureWarning: Passing (type, 1) or '1type' as a synonym of type is deprecated; in a future version of numpy, it will be understood as (type, (1,)) / '(1,)type'.\n",
      "  _np_quint16 = np.dtype([(\"quint16\", np.uint16, 1)])\n",
      "/home1/07064/tg863631/anaconda3/envs/CbrainCustomLayer/lib/python3.6/site-packages/tensorflow/python/framework/dtypes.py:527: FutureWarning: Passing (type, 1) or '1type' as a synonym of type is deprecated; in a future version of numpy, it will be understood as (type, (1,)) / '(1,)type'.\n",
      "  _np_qint32 = np.dtype([(\"qint32\", np.int32, 1)])\n",
      "/home1/07064/tg863631/anaconda3/envs/CbrainCustomLayer/lib/python3.6/site-packages/tensorflow/python/framework/dtypes.py:532: FutureWarning: Passing (type, 1) or '1type' as a synonym of type is deprecated; in a future version of numpy, it will be understood as (type, (1,)) / '(1,)type'.\n",
      "  np_resource = np.dtype([(\"resource\", np.ubyte, 1)])\n"
     ]
    }
   ],
   "source": [
    "\n",
    "import sys\n",
    "sys.path.insert(1,\"/home1/07064/tg863631/anaconda3/envs/CbrainCustomLayer/lib/python3.6/site-packages\") #work around for h5py\n",
    "from cbrain.imports import *\n",
    "from cbrain.cam_constants import *\n",
    "from cbrain.utils import *\n",
    "from cbrain.layers import *\n",
    "from cbrain.data_generator import DataGenerator\n",
    "import tensorflow as tf\n",
    "import tensorflow.math as tfm\n",
    "# import tensorflow_probability as tfp\n",
    "from tensorflow.keras.layers import *\n",
    "from tensorflow.keras.models import *\n",
    "import xarray as xr\n",
    "import numpy as np\n",
    "from cbrain.model_diagnostics import ModelDiagnostics\n",
    "import matplotlib as mpl\n",
    "import matplotlib.pyplot as plt\n",
    "import matplotlib.image as imag\n",
    "import scipy.integrate as sin\n",
    "# import cartopy.crs as ccrs\n",
    "import matplotlib.ticker as mticker\n",
    "# from cartopy.mpl.gridliner import LONGITUDE_FORMATTER, LATITUDE_FORMATTER\n",
    "import pickle\n"
   ]
  },
  {
   "cell_type": "code",
   "execution_count": 2,
   "metadata": {},
   "outputs": [
    {
     "name": "stdout",
     "output_type": "stream",
     "text": [
      "/home1/07064/tg863631/CBrain_project/CBRAIN-CAM\n"
     ]
    }
   ],
   "source": [
    "cd ../../"
   ]
  },
  {
   "cell_type": "markdown",
   "metadata": {},
   "source": [
    "## Pre-process data for the experiment"
   ]
  },
  {
   "cell_type": "markdown",
   "metadata": {},
   "source": [
    "### Specific humidity, norm file for (-4K)"
   ]
  },
  {
   "cell_type": "code",
   "execution_count": 4,
   "metadata": {},
   "outputs": [
    {
     "name": "stdout",
     "output_type": "stream",
     "text": [
      "/home1/07064/tg863631/anaconda3/envs/CbrainCustomLayer/lib/python3.6/site-packages/tensorflow/python/framework/dtypes.py:523: FutureWarning: Passing (type, 1) or '1type' as a synonym of type is deprecated; in a future version of numpy, it will be understood as (type, (1,)) / '(1,)type'.\n",
      "  _np_qint8 = np.dtype([(\"qint8\", np.int8, 1)])\n",
      "/home1/07064/tg863631/anaconda3/envs/CbrainCustomLayer/lib/python3.6/site-packages/tensorflow/python/framework/dtypes.py:524: FutureWarning: Passing (type, 1) or '1type' as a synonym of type is deprecated; in a future version of numpy, it will be understood as (type, (1,)) / '(1,)type'.\n",
      "  _np_quint8 = np.dtype([(\"quint8\", np.uint8, 1)])\n",
      "/home1/07064/tg863631/anaconda3/envs/CbrainCustomLayer/lib/python3.6/site-packages/tensorflow/python/framework/dtypes.py:525: FutureWarning: Passing (type, 1) or '1type' as a synonym of type is deprecated; in a future version of numpy, it will be understood as (type, (1,)) / '(1,)type'.\n",
      "  _np_qint16 = np.dtype([(\"qint16\", np.int16, 1)])\n",
      "/home1/07064/tg863631/anaconda3/envs/CbrainCustomLayer/lib/python3.6/site-packages/tensorflow/python/framework/dtypes.py:526: FutureWarning: Passing (type, 1) or '1type' as a synonym of type is deprecated; in a future version of numpy, it will be understood as (type, (1,)) / '(1,)type'.\n",
      "  _np_quint16 = np.dtype([(\"quint16\", np.uint16, 1)])\n",
      "/home1/07064/tg863631/anaconda3/envs/CbrainCustomLayer/lib/python3.6/site-packages/tensorflow/python/framework/dtypes.py:527: FutureWarning: Passing (type, 1) or '1type' as a synonym of type is deprecated; in a future version of numpy, it will be understood as (type, (1,)) / '(1,)type'.\n",
      "  _np_qint32 = np.dtype([(\"qint32\", np.int32, 1)])\n",
      "/home1/07064/tg863631/anaconda3/envs/CbrainCustomLayer/lib/python3.6/site-packages/tensorflow/python/framework/dtypes.py:532: FutureWarning: Passing (type, 1) or '1type' as a synonym of type is deprecated; in a future version of numpy, it will be understood as (type, (1,)) / '(1,)type'.\n",
      "  np_resource = np.dtype([(\"resource\", np.ubyte, 1)])\n",
      "02/06/2020 01:58:30 PM Preprocess training dataset\n",
      "02/06/2020 01:58:30 PM Start preprocessing file /scratch/07064/tg863631/PrepData/CI_SP_M4K_NORM_train.nc\n",
      "02/06/2020 01:58:30 PM Reading input files\n",
      "02/06/2020 01:58:30 PM Reading input file /scratch/05823/tg851228/CBRAIN/sp8fbp_minus4k/sp8fbp_minus4k.cam2.h2.0001-01-0*-00000.nc\n",
      "/home1/07064/tg863631/CBrain_project/CBRAIN-CAM/cbrain/preprocessing/convert_dataset_20191113.py:404: FutureWarning: In xarray version 0.15 the default behaviour of `open_mfdataset`\n",
      "will change. To retain the existing behavior, pass\n",
      "combine='nested'. To use future default behavior, pass\n",
      "combine='by_coords'. See\n",
      "http://xarray.pydata.org/en/stable/combining.html#combining-multi\n",
      "\n",
      "  ds = xr.open_mfdataset(in_fns, decode_times=False, decode_cf=False, concat_dim='time')\n",
      "/home1/07064/tg863631/anaconda3/envs/CbrainCustomLayer/lib/python3.6/site-packages/xarray/backends/api.py:933: FutureWarning: Also `open_mfdataset` will no longer accept a `concat_dim` argument.\n",
      "To get equivalent behaviour from now on please use the new\n",
      "`combine_nested` function instead (or the `combine='nested'` option to\n",
      "`open_mfdataset`).The datasets supplied have global dimension coordinates. You may want\n",
      "to use the new `combine_by_coords` function (or the\n",
      "`combine='by_coords'` option to `open_mfdataset`) to order the datasets\n",
      "before concatenation. Alternatively, to continue concatenating based\n",
      "on the order the datasets are supplied in future, please use the new\n",
      "`combine_nested` function (or the `combine='nested'` option to\n",
      "open_mfdataset).\n",
      "  from_openmfds=True,\n",
      "02/06/2020 01:58:52 PM Crop levels\n",
      "02/06/2020 01:58:52 PM Create stacked dataarray\n",
      "var is  FLNS\n",
      "These time steps are cut: []\n",
      "02/06/2020 01:58:52 PM Stack and reshape dataarray\n",
      "02/06/2020 01:58:53 PM Save dataarray as /scratch/07064/tg863631/PrepData/CI_SP_M4K_NORM_train.nc\n",
      "02/06/2020 01:59:02 PM Done!\n",
      "02/06/2020 01:59:02 PM Shuffle training dataset\n",
      "02/06/2020 01:59:02 PM Start shuffling /scratch/07064/tg863631/PrepData/CI_SP_M4K_NORM_train.nc into /scratch/07064/tg863631/PrepData/CI_SP_M4K_NORM_train_shuffle.nc. Open and create datasets.\n",
      "02/06/2020 01:59:02 PM Shuffle!\n",
      "100%|█████████████████████████████████████████████| 1/1 [00:00<00:00,  1.05it/s]\n",
      "02/06/2020 01:59:03 PM Closing datasets\n",
      "02/06/2020 01:59:03 PM Done!\n",
      "02/06/2020 01:59:03 PM Preprocess validation dataset\n",
      "02/06/2020 01:59:03 PM Start preprocessing file /scratch/07064/tg863631/PrepData/CI_SP_M4K_NORM_valid.nc\n",
      "02/06/2020 01:59:03 PM Reading input files\n",
      "02/06/2020 01:59:03 PM Reading input file /scratch/05823/tg851228/CBRAIN/sp8fbp_minus4k/sp8fbp_minus4k.cam2.h2.0001-01-0*-00000.nc\n",
      "/home1/07064/tg863631/CBrain_project/CBRAIN-CAM/cbrain/preprocessing/convert_dataset_20191113.py:404: FutureWarning: In xarray version 0.15 the default behaviour of `open_mfdataset`\n",
      "will change. To retain the existing behavior, pass\n",
      "combine='nested'. To use future default behavior, pass\n",
      "combine='by_coords'. See\n",
      "http://xarray.pydata.org/en/stable/combining.html#combining-multi\n",
      "\n",
      "  ds = xr.open_mfdataset(in_fns, decode_times=False, decode_cf=False, concat_dim='time')\n",
      "/home1/07064/tg863631/anaconda3/envs/CbrainCustomLayer/lib/python3.6/site-packages/xarray/backends/api.py:933: FutureWarning: Also `open_mfdataset` will no longer accept a `concat_dim` argument.\n",
      "To get equivalent behaviour from now on please use the new\n",
      "`combine_nested` function instead (or the `combine='nested'` option to\n",
      "`open_mfdataset`).The datasets supplied have global dimension coordinates. You may want\n",
      "to use the new `combine_by_coords` function (or the\n",
      "`combine='by_coords'` option to `open_mfdataset`) to order the datasets\n",
      "before concatenation. Alternatively, to continue concatenating based\n",
      "on the order the datasets are supplied in future, please use the new\n",
      "`combine_nested` function (or the `combine='nested'` option to\n",
      "open_mfdataset).\n",
      "  from_openmfds=True,\n",
      "02/06/2020 01:59:06 PM Crop levels\n",
      "02/06/2020 01:59:06 PM Create stacked dataarray\n",
      "var is  FLNS\n",
      "These time steps are cut: []\n",
      "02/06/2020 01:59:07 PM Stack and reshape dataarray\n",
      "02/06/2020 01:59:07 PM Save dataarray as /scratch/07064/tg863631/PrepData/CI_SP_M4K_NORM_valid.nc\n",
      "02/06/2020 01:59:08 PM Done!\n",
      "02/06/2020 01:59:08 PM Compute normalization file from train\n",
      "02/06/2020 01:59:08 PM Start normalizing by creating dataset.\n",
      "02/06/2020 01:59:08 PM Compute standard normalizations.\n",
      "02/06/2020 01:59:09 PM Saving normalization file as /scratch/07064/tg863631/PrepData/CI_SP_M4K_NORM_norm.nc\n",
      "02/06/2020 01:59:09 PM Done!\n",
      "02/06/2020 01:59:09 PM Finish entire preprocessing script.\n"
     ]
    }
   ],
   "source": [
    "!python preprocessing-11132019.py -c /home1/07064/tg863631/CBrain_project/PrepData/CI_SP_M4K_NORM.yml"
   ]
  },
  {
   "cell_type": "markdown",
   "metadata": {},
   "source": [
    "### Specific humidity, training and validation for (-4K)"
   ]
  },
  {
   "cell_type": "code",
   "execution_count": null,
   "metadata": {},
   "outputs": [
    {
     "name": "stdout",
     "output_type": "stream",
     "text": [
      "/home1/07064/tg863631/anaconda3/envs/CbrainCustomLayer/lib/python3.6/site-packages/tensorflow/python/framework/dtypes.py:523: FutureWarning: Passing (type, 1) or '1type' as a synonym of type is deprecated; in a future version of numpy, it will be understood as (type, (1,)) / '(1,)type'.\n",
      "  _np_qint8 = np.dtype([(\"qint8\", np.int8, 1)])\n",
      "/home1/07064/tg863631/anaconda3/envs/CbrainCustomLayer/lib/python3.6/site-packages/tensorflow/python/framework/dtypes.py:524: FutureWarning: Passing (type, 1) or '1type' as a synonym of type is deprecated; in a future version of numpy, it will be understood as (type, (1,)) / '(1,)type'.\n",
      "  _np_quint8 = np.dtype([(\"quint8\", np.uint8, 1)])\n",
      "/home1/07064/tg863631/anaconda3/envs/CbrainCustomLayer/lib/python3.6/site-packages/tensorflow/python/framework/dtypes.py:525: FutureWarning: Passing (type, 1) or '1type' as a synonym of type is deprecated; in a future version of numpy, it will be understood as (type, (1,)) / '(1,)type'.\n",
      "  _np_qint16 = np.dtype([(\"qint16\", np.int16, 1)])\n",
      "/home1/07064/tg863631/anaconda3/envs/CbrainCustomLayer/lib/python3.6/site-packages/tensorflow/python/framework/dtypes.py:526: FutureWarning: Passing (type, 1) or '1type' as a synonym of type is deprecated; in a future version of numpy, it will be understood as (type, (1,)) / '(1,)type'.\n",
      "  _np_quint16 = np.dtype([(\"quint16\", np.uint16, 1)])\n",
      "/home1/07064/tg863631/anaconda3/envs/CbrainCustomLayer/lib/python3.6/site-packages/tensorflow/python/framework/dtypes.py:527: FutureWarning: Passing (type, 1) or '1type' as a synonym of type is deprecated; in a future version of numpy, it will be understood as (type, (1,)) / '(1,)type'.\n",
      "  _np_qint32 = np.dtype([(\"qint32\", np.int32, 1)])\n",
      "/home1/07064/tg863631/anaconda3/envs/CbrainCustomLayer/lib/python3.6/site-packages/tensorflow/python/framework/dtypes.py:532: FutureWarning: Passing (type, 1) or '1type' as a synonym of type is deprecated; in a future version of numpy, it will be understood as (type, (1,)) / '(1,)type'.\n",
      "  np_resource = np.dtype([(\"resource\", np.ubyte, 1)])\n",
      "02/04/2020 08:27:04 PM Preprocess training dataset\n",
      "02/04/2020 08:27:04 PM Start preprocessing file /scratch/07064/tg863631/PrepData/CI_SP_M4K_train.nc\n",
      "02/04/2020 08:27:04 PM Reading input files\n",
      "02/04/2020 08:27:04 PM Reading input file /scratch/05823/tg851228/CBRAIN/sp8fbp_minus4k/sp8fbp_minus4k.cam2.h2.0001-*-0*-00000.nc\n",
      "/home1/07064/tg863631/CBrain_project/CBRAIN-CAM/cbrain/preprocessing/convert_dataset_20191113.py:404: FutureWarning: In xarray version 0.15 the default behaviour of `open_mfdataset`\n",
      "will change. To retain the existing behavior, pass\n",
      "combine='nested'. To use future default behavior, pass\n",
      "combine='by_coords'. See\n",
      "http://xarray.pydata.org/en/stable/combining.html#combining-multi\n",
      "\n",
      "  ds = xr.open_mfdataset(in_fns, decode_times=False, decode_cf=False, concat_dim='time')\n",
      "/home1/07064/tg863631/anaconda3/envs/CbrainCustomLayer/lib/python3.6/site-packages/xarray/backends/api.py:933: FutureWarning: Also `open_mfdataset` will no longer accept a `concat_dim` argument.\n",
      "To get equivalent behaviour from now on please use the new\n",
      "`combine_nested` function instead (or the `combine='nested'` option to\n",
      "`open_mfdataset`).The datasets supplied have global dimension coordinates. You may want\n",
      "to use the new `combine_by_coords` function (or the\n",
      "`combine='by_coords'` option to `open_mfdataset`) to order the datasets\n",
      "before concatenation. Alternatively, to continue concatenating based\n",
      "on the order the datasets are supplied in future, please use the new\n",
      "`combine_nested` function (or the `combine='nested'` option to\n",
      "open_mfdataset).\n",
      "  from_openmfds=True,\n",
      "02/04/2020 08:31:27 PM Crop levels\n",
      "02/04/2020 08:31:27 PM Create stacked dataarray\n",
      "var is  QBP\n",
      "var is  TBP\n",
      "var is  PS\n",
      "var is  SOLIN\n",
      "var is  SHFLX\n",
      "var is  LHFLX\n",
      "var is  PHQ\n",
      "var is  TPHYSTND\n",
      "var is  FSNT\n",
      "var is  FSNS\n",
      "var is  FLNT\n",
      "var is  FLNS\n",
      "These time steps are cut: [ 431  863 1295 1727 2159 2591 3023 3455 3887 4319 4751]\n",
      "02/04/2020 08:31:28 PM Stack and reshape dataarray\n",
      "02/04/2020 08:31:32 PM Save dataarray as /scratch/07064/tg863631/PrepData/CI_SP_M4K_train.nc\n",
      "02/04/2020 09:37:56 PM Done!\n",
      "02/04/2020 09:37:57 PM Shuffle training dataset\n",
      "02/04/2020 09:37:57 PM Start shuffling /scratch/07064/tg863631/PrepData/CI_SP_M4K_train.nc into /scratch/07064/tg863631/PrepData/CI_SP_M4K_train_shuffle.nc. Open and create datasets.\n",
      "02/04/2020 09:38:05 PM Shuffle!\n",
      "100%|█████████████████████████████████████████████| 5/5 [05:26<00:00, 65.30s/it]\n",
      "02/04/2020 09:43:32 PM Closing datasets\n",
      "02/04/2020 09:43:32 PM Done!\n",
      "02/04/2020 09:43:32 PM Preprocess validation dataset\n",
      "02/04/2020 09:43:32 PM Start preprocessing file /scratch/07064/tg863631/PrepData/CI_SP_M4K_valid.nc\n",
      "02/04/2020 09:43:32 PM Reading input files\n",
      "02/04/2020 09:43:32 PM Reading input file /scratch/05823/tg851228/CBRAIN/sp8fbp_minus4k/sp8fbp_minus4k.cam2.h2.0001-*-1*-00000.nc\n"
     ]
    }
   ],
   "source": [
    "!python preprocessing-11132019.py -c /home1/07064/tg863631/CBrain_project/PrepData/CI_SP_M4K.yml"
   ]
  },
  {
   "cell_type": "markdown",
   "metadata": {},
   "source": [
    "### Specific humidity, training and validation for (-4K) -- need to do validation as it was left "
   ]
  },
  {
   "cell_type": "code",
   "execution_count": 4,
   "metadata": {},
   "outputs": [
    {
     "name": "stdout",
     "output_type": "stream",
     "text": [
      "/home1/07064/tg863631/anaconda3/envs/CbrainCustomLayer/lib/python3.6/site-packages/tensorflow/python/framework/dtypes.py:523: FutureWarning: Passing (type, 1) or '1type' as a synonym of type is deprecated; in a future version of numpy, it will be understood as (type, (1,)) / '(1,)type'.\n",
      "  _np_qint8 = np.dtype([(\"qint8\", np.int8, 1)])\n",
      "/home1/07064/tg863631/anaconda3/envs/CbrainCustomLayer/lib/python3.6/site-packages/tensorflow/python/framework/dtypes.py:524: FutureWarning: Passing (type, 1) or '1type' as a synonym of type is deprecated; in a future version of numpy, it will be understood as (type, (1,)) / '(1,)type'.\n",
      "  _np_quint8 = np.dtype([(\"quint8\", np.uint8, 1)])\n",
      "/home1/07064/tg863631/anaconda3/envs/CbrainCustomLayer/lib/python3.6/site-packages/tensorflow/python/framework/dtypes.py:525: FutureWarning: Passing (type, 1) or '1type' as a synonym of type is deprecated; in a future version of numpy, it will be understood as (type, (1,)) / '(1,)type'.\n",
      "  _np_qint16 = np.dtype([(\"qint16\", np.int16, 1)])\n",
      "/home1/07064/tg863631/anaconda3/envs/CbrainCustomLayer/lib/python3.6/site-packages/tensorflow/python/framework/dtypes.py:526: FutureWarning: Passing (type, 1) or '1type' as a synonym of type is deprecated; in a future version of numpy, it will be understood as (type, (1,)) / '(1,)type'.\n",
      "  _np_quint16 = np.dtype([(\"quint16\", np.uint16, 1)])\n",
      "/home1/07064/tg863631/anaconda3/envs/CbrainCustomLayer/lib/python3.6/site-packages/tensorflow/python/framework/dtypes.py:527: FutureWarning: Passing (type, 1) or '1type' as a synonym of type is deprecated; in a future version of numpy, it will be understood as (type, (1,)) / '(1,)type'.\n",
      "  _np_qint32 = np.dtype([(\"qint32\", np.int32, 1)])\n",
      "/home1/07064/tg863631/anaconda3/envs/CbrainCustomLayer/lib/python3.6/site-packages/tensorflow/python/framework/dtypes.py:532: FutureWarning: Passing (type, 1) or '1type' as a synonym of type is deprecated; in a future version of numpy, it will be understood as (type, (1,)) / '(1,)type'.\n",
      "  np_resource = np.dtype([(\"resource\", np.ubyte, 1)])\n",
      "02/05/2020 02:35:03 PM Preprocess training dataset\n",
      "02/05/2020 02:35:03 PM Start preprocessing file /scratch/07064/tg863631/PrepData/CI_SP_M4K_train_temp.nc\n",
      "02/05/2020 02:35:03 PM Reading input files\n",
      "02/05/2020 02:35:03 PM Reading input file /scratch/05823/tg851228/CBRAIN/sp8fbp_minus4k/sp8fbp_minus4k.cam2.h2.0001-02-01-00000.nc\n",
      "/home1/07064/tg863631/CBrain_project/CBRAIN-CAM/cbrain/preprocessing/convert_dataset_20191113.py:404: FutureWarning: In xarray version 0.15 the default behaviour of `open_mfdataset`\n",
      "will change. To retain the existing behavior, pass\n",
      "combine='nested'. To use future default behavior, pass\n",
      "combine='by_coords'. See\n",
      "http://xarray.pydata.org/en/stable/combining.html#combining-multi\n",
      "\n",
      "  ds = xr.open_mfdataset(in_fns, decode_times=False, decode_cf=False, concat_dim='time')\n",
      "/home1/07064/tg863631/anaconda3/envs/CbrainCustomLayer/lib/python3.6/site-packages/xarray/backends/api.py:933: FutureWarning: Also `open_mfdataset` will no longer accept a `concat_dim` argument.\n",
      "To get equivalent behaviour from now on please use the new\n",
      "`combine_nested` function instead (or the `combine='nested'` option to\n",
      "`open_mfdataset`).The datasets supplied have global dimension coordinates. You may want\n",
      "to use the new `combine_by_coords` function (or the\n",
      "`combine='by_coords'` option to `open_mfdataset`) to order the datasets\n",
      "before concatenation. Alternatively, to continue concatenating based\n",
      "on the order the datasets are supplied in future, please use the new\n",
      "`combine_nested` function (or the `combine='nested'` option to\n",
      "open_mfdataset).\n",
      "  from_openmfds=True,\n",
      "02/05/2020 02:35:06 PM Crop levels\n",
      "02/05/2020 02:35:06 PM Create stacked dataarray\n",
      "var is  QBP\n",
      "var is  TBP\n",
      "var is  PS\n",
      "var is  SOLIN\n",
      "var is  SHFLX\n",
      "var is  LHFLX\n",
      "var is  PHQ\n",
      "var is  TPHYSTND\n",
      "var is  FSNT\n",
      "var is  FSNS\n",
      "var is  FLNT\n",
      "var is  FLNS\n",
      "These time steps are cut: []\n",
      "02/05/2020 02:35:06 PM Stack and reshape dataarray\n",
      "02/05/2020 02:35:06 PM Save dataarray as /scratch/07064/tg863631/PrepData/CI_SP_M4K_train_temp.nc\n",
      "02/05/2020 02:35:23 PM Done!\n",
      "02/05/2020 02:35:23 PM Shuffle training dataset\n",
      "02/05/2020 02:35:23 PM Start shuffling /scratch/07064/tg863631/PrepData/CI_SP_M4K_train_temp.nc into /scratch/07064/tg863631/PrepData/CI_SP_M4K_train_temp_shuffle.nc. Open and create datasets.\n",
      "02/05/2020 02:35:23 PM Shuffle!\n",
      "100%|█████████████████████████████████████████████| 1/1 [00:01<00:00,  1.07s/it]\n",
      "02/05/2020 02:35:24 PM Closing datasets\n",
      "02/05/2020 02:35:24 PM Done!\n",
      "02/05/2020 02:35:24 PM Preprocess validation dataset\n",
      "02/05/2020 02:35:24 PM Start preprocessing file /scratch/07064/tg863631/PrepData/CI_SP_M4K_valid.nc\n",
      "02/05/2020 02:35:24 PM Reading input files\n",
      "02/05/2020 02:35:24 PM Reading input file /scratch/05823/tg851228/CBRAIN/sp8fbp_minus4k/sp8fbp_minus4k.cam2.h2.0001-*-*5-00000.nc\n",
      "/home1/07064/tg863631/CBrain_project/CBRAIN-CAM/cbrain/preprocessing/convert_dataset_20191113.py:404: FutureWarning: In xarray version 0.15 the default behaviour of `open_mfdataset`\n",
      "will change. To retain the existing behavior, pass\n",
      "combine='nested'. To use future default behavior, pass\n",
      "combine='by_coords'. See\n",
      "http://xarray.pydata.org/en/stable/combining.html#combining-multi\n",
      "\n",
      "  ds = xr.open_mfdataset(in_fns, decode_times=False, decode_cf=False, concat_dim='time')\n",
      "/home1/07064/tg863631/anaconda3/envs/CbrainCustomLayer/lib/python3.6/site-packages/xarray/backends/api.py:933: FutureWarning: Also `open_mfdataset` will no longer accept a `concat_dim` argument.\n",
      "To get equivalent behaviour from now on please use the new\n",
      "`combine_nested` function instead (or the `combine='nested'` option to\n",
      "`open_mfdataset`).The datasets supplied have global dimension coordinates. You may want\n",
      "to use the new `combine_by_coords` function (or the\n",
      "`combine='by_coords'` option to `open_mfdataset`) to order the datasets\n",
      "before concatenation. Alternatively, to continue concatenating based\n",
      "on the order the datasets are supplied in future, please use the new\n",
      "`combine_nested` function (or the `combine='nested'` option to\n",
      "open_mfdataset).\n",
      "  from_openmfds=True,\n",
      "02/05/2020 02:36:50 PM Crop levels\n",
      "02/05/2020 02:36:50 PM Create stacked dataarray\n",
      "var is  QBP\n",
      "var is  TBP\n",
      "var is  PS\n",
      "var is  SOLIN\n",
      "var is  SHFLX\n",
      "var is  LHFLX\n",
      "var is  PHQ\n",
      "var is  TPHYSTND\n",
      "var is  FSNT\n",
      "var is  FSNS\n",
      "var is  FLNT\n",
      "var is  FLNS\n",
      "These time steps are cut: [  47   95  143  191  239  287  335  383  431  479  527  575  623  671\n",
      "  719  767  815  863  911  959 1007 1055 1103 1151 1199 1247 1295 1343\n",
      " 1391 1439 1487 1535 1583 1631 1679]\n",
      "02/05/2020 02:36:51 PM Stack and reshape dataarray\n",
      "02/05/2020 02:36:52 PM Save dataarray as /scratch/07064/tg863631/PrepData/CI_SP_M4K_valid.nc\n",
      "02/05/2020 02:47:12 PM Done!\n",
      "02/05/2020 02:47:12 PM Finish entire preprocessing script.\n"
     ]
    }
   ],
   "source": [
    "!python preprocessing-11132019.py -c /home1/07064/tg863631/CBrain_project/PrepData/CI_SP_M4K.yml"
   ]
  },
  {
   "cell_type": "code",
   "execution_count": 2,
   "metadata": {},
   "outputs": [
    {
     "name": "stdout",
     "output_type": "stream",
     "text": [
      "/home1/07064/tg863631/CBrain_project/CBRAIN-CAM\n"
     ]
    }
   ],
   "source": [
    "cd ../../"
   ]
  },
  {
   "cell_type": "markdown",
   "metadata": {},
   "source": [
    "### Specific humidity, norm file for (+4K)"
   ]
  },
  {
   "cell_type": "code",
   "execution_count": 5,
   "metadata": {},
   "outputs": [
    {
     "name": "stdout",
     "output_type": "stream",
     "text": [
      "/home1/07064/tg863631/anaconda3/envs/CbrainCustomLayer/lib/python3.6/site-packages/tensorflow/python/framework/dtypes.py:523: FutureWarning: Passing (type, 1) or '1type' as a synonym of type is deprecated; in a future version of numpy, it will be understood as (type, (1,)) / '(1,)type'.\n",
      "  _np_qint8 = np.dtype([(\"qint8\", np.int8, 1)])\n",
      "/home1/07064/tg863631/anaconda3/envs/CbrainCustomLayer/lib/python3.6/site-packages/tensorflow/python/framework/dtypes.py:524: FutureWarning: Passing (type, 1) or '1type' as a synonym of type is deprecated; in a future version of numpy, it will be understood as (type, (1,)) / '(1,)type'.\n",
      "  _np_quint8 = np.dtype([(\"quint8\", np.uint8, 1)])\n",
      "/home1/07064/tg863631/anaconda3/envs/CbrainCustomLayer/lib/python3.6/site-packages/tensorflow/python/framework/dtypes.py:525: FutureWarning: Passing (type, 1) or '1type' as a synonym of type is deprecated; in a future version of numpy, it will be understood as (type, (1,)) / '(1,)type'.\n",
      "  _np_qint16 = np.dtype([(\"qint16\", np.int16, 1)])\n",
      "/home1/07064/tg863631/anaconda3/envs/CbrainCustomLayer/lib/python3.6/site-packages/tensorflow/python/framework/dtypes.py:526: FutureWarning: Passing (type, 1) or '1type' as a synonym of type is deprecated; in a future version of numpy, it will be understood as (type, (1,)) / '(1,)type'.\n",
      "  _np_quint16 = np.dtype([(\"quint16\", np.uint16, 1)])\n",
      "/home1/07064/tg863631/anaconda3/envs/CbrainCustomLayer/lib/python3.6/site-packages/tensorflow/python/framework/dtypes.py:527: FutureWarning: Passing (type, 1) or '1type' as a synonym of type is deprecated; in a future version of numpy, it will be understood as (type, (1,)) / '(1,)type'.\n",
      "  _np_qint32 = np.dtype([(\"qint32\", np.int32, 1)])\n",
      "/home1/07064/tg863631/anaconda3/envs/CbrainCustomLayer/lib/python3.6/site-packages/tensorflow/python/framework/dtypes.py:532: FutureWarning: Passing (type, 1) or '1type' as a synonym of type is deprecated; in a future version of numpy, it will be understood as (type, (1,)) / '(1,)type'.\n",
      "  np_resource = np.dtype([(\"resource\", np.ubyte, 1)])\n",
      "02/05/2020 03:07:04 PM Preprocess training dataset\n",
      "02/05/2020 03:07:04 PM Start preprocessing file /scratch/07064/tg863631/PrepData/CI_SP_P4K_NORM_train.nc\n",
      "02/05/2020 03:07:04 PM Reading input files\n",
      "02/05/2020 03:07:04 PM Reading input file /scratch/05823/tg851228/CBRAIN/sp8fbp_4k/sp8fbp_4k.cam2.h2.0001-01-0*-00000.nc\n",
      "/home1/07064/tg863631/CBrain_project/CBRAIN-CAM/cbrain/preprocessing/convert_dataset_20191113.py:404: FutureWarning: In xarray version 0.15 the default behaviour of `open_mfdataset`\n",
      "will change. To retain the existing behavior, pass\n",
      "combine='nested'. To use future default behavior, pass\n",
      "combine='by_coords'. See\n",
      "http://xarray.pydata.org/en/stable/combining.html#combining-multi\n",
      "\n",
      "  ds = xr.open_mfdataset(in_fns, decode_times=False, decode_cf=False, concat_dim='time')\n",
      "/home1/07064/tg863631/anaconda3/envs/CbrainCustomLayer/lib/python3.6/site-packages/xarray/backends/api.py:933: FutureWarning: Also `open_mfdataset` will no longer accept a `concat_dim` argument.\n",
      "To get equivalent behaviour from now on please use the new\n",
      "`combine_nested` function instead (or the `combine='nested'` option to\n",
      "`open_mfdataset`).The datasets supplied have global dimension coordinates. You may want\n",
      "to use the new `combine_by_coords` function (or the\n",
      "`combine='by_coords'` option to `open_mfdataset`) to order the datasets\n",
      "before concatenation. Alternatively, to continue concatenating based\n",
      "on the order the datasets are supplied in future, please use the new\n",
      "`combine_nested` function (or the `combine='nested'` option to\n",
      "open_mfdataset).\n",
      "  from_openmfds=True,\n",
      "02/05/2020 03:07:25 PM Crop levels\n",
      "02/05/2020 03:07:25 PM Create stacked dataarray\n",
      "var is  QBP\n",
      "var is  TBP\n",
      "var is  PS\n",
      "var is  SOLIN\n",
      "var is  SHFLX\n",
      "var is  LHFLX\n",
      "var is  PHQ\n",
      "var is  TPHYSTND\n",
      "var is  FSNT\n",
      "var is  FSNS\n",
      "var is  FLNT\n",
      "var is  FLNS\n",
      "These time steps are cut: []\n",
      "02/05/2020 03:07:25 PM Stack and reshape dataarray\n",
      "02/05/2020 03:07:26 PM Save dataarray as /scratch/07064/tg863631/PrepData/CI_SP_P4K_NORM_train.nc\n",
      "02/05/2020 03:10:05 PM Done!\n",
      "02/05/2020 03:10:05 PM Shuffle training dataset\n",
      "02/05/2020 03:10:05 PM Start shuffling /scratch/07064/tg863631/PrepData/CI_SP_P4K_NORM_train.nc into /scratch/07064/tg863631/PrepData/CI_SP_P4K_NORM_train_shuffle.nc. Open and create datasets.\n",
      "02/05/2020 03:10:06 PM Shuffle!\n",
      "100%|█████████████████████████████████████████████| 1/1 [00:14<00:00, 14.21s/it]\n",
      "02/05/2020 03:10:20 PM Closing datasets\n",
      "02/05/2020 03:10:20 PM Done!\n",
      "02/05/2020 03:10:20 PM Preprocess validation dataset\n",
      "02/05/2020 03:10:20 PM Start preprocessing file /scratch/07064/tg863631/PrepData/CI_SP_P4K_NORM_valid.nc\n",
      "02/05/2020 03:10:20 PM Reading input files\n",
      "02/05/2020 03:10:20 PM Reading input file /scratch/05823/tg851228/CBRAIN/sp8fbp_4k/sp8fbp_4k.cam2.h2.0001-01-0*-00000.nc\n",
      "/home1/07064/tg863631/CBrain_project/CBRAIN-CAM/cbrain/preprocessing/convert_dataset_20191113.py:404: FutureWarning: In xarray version 0.15 the default behaviour of `open_mfdataset`\n",
      "will change. To retain the existing behavior, pass\n",
      "combine='nested'. To use future default behavior, pass\n",
      "combine='by_coords'. See\n",
      "http://xarray.pydata.org/en/stable/combining.html#combining-multi\n",
      "\n",
      "  ds = xr.open_mfdataset(in_fns, decode_times=False, decode_cf=False, concat_dim='time')\n",
      "/home1/07064/tg863631/anaconda3/envs/CbrainCustomLayer/lib/python3.6/site-packages/xarray/backends/api.py:933: FutureWarning: Also `open_mfdataset` will no longer accept a `concat_dim` argument.\n",
      "To get equivalent behaviour from now on please use the new\n",
      "`combine_nested` function instead (or the `combine='nested'` option to\n",
      "`open_mfdataset`).The datasets supplied have global dimension coordinates. You may want\n",
      "to use the new `combine_by_coords` function (or the\n",
      "`combine='by_coords'` option to `open_mfdataset`) to order the datasets\n",
      "before concatenation. Alternatively, to continue concatenating based\n",
      "on the order the datasets are supplied in future, please use the new\n",
      "`combine_nested` function (or the `combine='nested'` option to\n",
      "open_mfdataset).\n",
      "  from_openmfds=True,\n",
      "02/05/2020 03:10:24 PM Crop levels\n",
      "02/05/2020 03:10:24 PM Create stacked dataarray\n",
      "var is  QBP\n",
      "var is  TBP\n",
      "var is  PS\n",
      "var is  SOLIN\n",
      "var is  SHFLX\n",
      "var is  LHFLX\n",
      "var is  PHQ\n",
      "var is  TPHYSTND\n",
      "var is  FSNT\n",
      "var is  FSNS\n",
      "var is  FLNT\n",
      "var is  FLNS\n",
      "These time steps are cut: []\n",
      "02/05/2020 03:10:24 PM Stack and reshape dataarray\n",
      "02/05/2020 03:10:25 PM Save dataarray as /scratch/07064/tg863631/PrepData/CI_SP_P4K_NORM_valid.nc\n",
      "02/05/2020 03:12:30 PM Done!\n",
      "02/05/2020 03:12:30 PM Compute normalization file from train\n",
      "02/05/2020 03:12:30 PM Start normalizing by creating dataset.\n",
      "02/05/2020 03:12:30 PM Compute standard normalizations.\n",
      "02/05/2020 03:13:05 PM Saving normalization file as /scratch/07064/tg863631/PrepData/CI_SP_P4K_NORM_norm.nc\n",
      "02/05/2020 03:13:05 PM Done!\n",
      "02/05/2020 03:13:05 PM Finish entire preprocessing script.\n"
     ]
    }
   ],
   "source": [
    "!python preprocessing-11132019.py -c /home1/07064/tg863631/CBrain_project/PrepData/CI_SP_P4K_NORM.yml"
   ]
  },
  {
   "cell_type": "code",
   "execution_count": null,
   "metadata": {},
   "outputs": [],
   "source": []
  },
  {
   "cell_type": "markdown",
   "metadata": {},
   "source": [
    "### Specific humidity, training and validation for (+4K)"
   ]
  },
  {
   "cell_type": "code",
   "execution_count": 3,
   "metadata": {},
   "outputs": [
    {
     "name": "stdout",
     "output_type": "stream",
     "text": [
      "/home1/07064/tg863631/anaconda3/envs/CbrainCustomLayer/lib/python3.6/site-packages/tensorflow/python/framework/dtypes.py:523: FutureWarning: Passing (type, 1) or '1type' as a synonym of type is deprecated; in a future version of numpy, it will be understood as (type, (1,)) / '(1,)type'.\n",
      "  _np_qint8 = np.dtype([(\"qint8\", np.int8, 1)])\n",
      "/home1/07064/tg863631/anaconda3/envs/CbrainCustomLayer/lib/python3.6/site-packages/tensorflow/python/framework/dtypes.py:524: FutureWarning: Passing (type, 1) or '1type' as a synonym of type is deprecated; in a future version of numpy, it will be understood as (type, (1,)) / '(1,)type'.\n",
      "  _np_quint8 = np.dtype([(\"quint8\", np.uint8, 1)])\n",
      "/home1/07064/tg863631/anaconda3/envs/CbrainCustomLayer/lib/python3.6/site-packages/tensorflow/python/framework/dtypes.py:525: FutureWarning: Passing (type, 1) or '1type' as a synonym of type is deprecated; in a future version of numpy, it will be understood as (type, (1,)) / '(1,)type'.\n",
      "  _np_qint16 = np.dtype([(\"qint16\", np.int16, 1)])\n",
      "/home1/07064/tg863631/anaconda3/envs/CbrainCustomLayer/lib/python3.6/site-packages/tensorflow/python/framework/dtypes.py:526: FutureWarning: Passing (type, 1) or '1type' as a synonym of type is deprecated; in a future version of numpy, it will be understood as (type, (1,)) / '(1,)type'.\n",
      "  _np_quint16 = np.dtype([(\"quint16\", np.uint16, 1)])\n",
      "/home1/07064/tg863631/anaconda3/envs/CbrainCustomLayer/lib/python3.6/site-packages/tensorflow/python/framework/dtypes.py:527: FutureWarning: Passing (type, 1) or '1type' as a synonym of type is deprecated; in a future version of numpy, it will be understood as (type, (1,)) / '(1,)type'.\n",
      "  _np_qint32 = np.dtype([(\"qint32\", np.int32, 1)])\n",
      "/home1/07064/tg863631/anaconda3/envs/CbrainCustomLayer/lib/python3.6/site-packages/tensorflow/python/framework/dtypes.py:532: FutureWarning: Passing (type, 1) or '1type' as a synonym of type is deprecated; in a future version of numpy, it will be understood as (type, (1,)) / '(1,)type'.\n",
      "  np_resource = np.dtype([(\"resource\", np.ubyte, 1)])\n",
      "02/05/2020 03:45:49 PM Preprocess training dataset\n",
      "02/05/2020 03:45:49 PM Start preprocessing file /scratch/07064/tg863631/PrepData/CI_SP_P4K_train.nc\n",
      "02/05/2020 03:45:49 PM Reading input files\n",
      "02/05/2020 03:45:49 PM Reading input file /scratch/05823/tg851228/CBRAIN/sp8fbp_4k/sp8fbp_4k.cam2.h2.0001-*-0*-00000.nc\n",
      "/home1/07064/tg863631/CBrain_project/CBRAIN-CAM/cbrain/preprocessing/convert_dataset_20191113.py:404: FutureWarning: In xarray version 0.15 the default behaviour of `open_mfdataset`\n",
      "will change. To retain the existing behavior, pass\n",
      "combine='nested'. To use future default behavior, pass\n",
      "combine='by_coords'. See\n",
      "http://xarray.pydata.org/en/stable/combining.html#combining-multi\n",
      "\n",
      "  ds = xr.open_mfdataset(in_fns, decode_times=False, decode_cf=False, concat_dim='time')\n",
      "/home1/07064/tg863631/anaconda3/envs/CbrainCustomLayer/lib/python3.6/site-packages/xarray/backends/api.py:933: FutureWarning: Also `open_mfdataset` will no longer accept a `concat_dim` argument.\n",
      "To get equivalent behaviour from now on please use the new\n",
      "`combine_nested` function instead (or the `combine='nested'` option to\n",
      "`open_mfdataset`).The datasets supplied have global dimension coordinates. You may want\n",
      "to use the new `combine_by_coords` function (or the\n",
      "`combine='by_coords'` option to `open_mfdataset`) to order the datasets\n",
      "before concatenation. Alternatively, to continue concatenating based\n",
      "on the order the datasets are supplied in future, please use the new\n",
      "`combine_nested` function (or the `combine='nested'` option to\n",
      "open_mfdataset).\n",
      "  from_openmfds=True,\n",
      "02/05/2020 03:50:12 PM Crop levels\n",
      "02/05/2020 03:50:12 PM Create stacked dataarray\n",
      "var is  QBP\n",
      "var is  TBP\n",
      "var is  PS\n",
      "var is  SOLIN\n",
      "var is  SHFLX\n",
      "var is  LHFLX\n",
      "var is  PHQ\n",
      "var is  TPHYSTND\n",
      "var is  FSNT\n",
      "var is  FSNS\n",
      "var is  FLNT\n",
      "var is  FLNS\n",
      "These time steps are cut: [ 431  863 1295 1727 2159 2591 3023 3455 3887 4319 4751]\n",
      "02/05/2020 03:50:13 PM Stack and reshape dataarray\n",
      "02/05/2020 03:50:17 PM Save dataarray as /scratch/07064/tg863631/PrepData/CI_SP_P4K_train.nc\n",
      "02/05/2020 04:56:07 PM Done!\n",
      "02/05/2020 04:56:08 PM Shuffle training dataset\n",
      "02/05/2020 04:56:08 PM Start shuffling /scratch/07064/tg863631/PrepData/CI_SP_P4K_train.nc into /scratch/07064/tg863631/PrepData/CI_SP_P4K_train_shuffle.nc. Open and create datasets.\n",
      "02/05/2020 04:56:16 PM Shuffle!\n",
      "100%|█████████████████████████████████████████████| 5/5 [04:53<00:00, 58.76s/it]\n",
      "02/05/2020 05:01:11 PM Closing datasets\n",
      "02/05/2020 05:01:11 PM Done!\n",
      "02/05/2020 05:01:11 PM Preprocess validation dataset\n",
      "02/05/2020 05:01:11 PM Start preprocessing file /scratch/07064/tg863631/PrepData/CI_SP_P4K_valid.nc\n",
      "02/05/2020 05:01:11 PM Reading input files\n",
      "02/05/2020 05:01:11 PM Reading input file /scratch/05823/tg851228/CBRAIN/sp8fbp_4k/sp8fbp_4k.cam2.h2.0001-*-*5-00000.nc\n",
      "/home1/07064/tg863631/CBrain_project/CBRAIN-CAM/cbrain/preprocessing/convert_dataset_20191113.py:404: FutureWarning: In xarray version 0.15 the default behaviour of `open_mfdataset`\n",
      "will change. To retain the existing behavior, pass\n",
      "combine='nested'. To use future default behavior, pass\n",
      "combine='by_coords'. See\n",
      "http://xarray.pydata.org/en/stable/combining.html#combining-multi\n",
      "\n",
      "  ds = xr.open_mfdataset(in_fns, decode_times=False, decode_cf=False, concat_dim='time')\n",
      "/home1/07064/tg863631/anaconda3/envs/CbrainCustomLayer/lib/python3.6/site-packages/xarray/backends/api.py:933: FutureWarning: Also `open_mfdataset` will no longer accept a `concat_dim` argument.\n",
      "To get equivalent behaviour from now on please use the new\n",
      "`combine_nested` function instead (or the `combine='nested'` option to\n",
      "`open_mfdataset`).The datasets supplied have global dimension coordinates. You may want\n",
      "to use the new `combine_by_coords` function (or the\n",
      "`combine='by_coords'` option to `open_mfdataset`) to order the datasets\n",
      "before concatenation. Alternatively, to continue concatenating based\n",
      "on the order the datasets are supplied in future, please use the new\n",
      "`combine_nested` function (or the `combine='nested'` option to\n",
      "open_mfdataset).\n",
      "  from_openmfds=True,\n",
      "02/05/2020 05:02:31 PM Crop levels\n",
      "02/05/2020 05:02:31 PM Create stacked dataarray\n",
      "var is  QBP\n",
      "var is  TBP\n",
      "var is  PS\n",
      "var is  SOLIN\n",
      "var is  SHFLX\n",
      "var is  LHFLX\n",
      "var is  PHQ\n",
      "var is  TPHYSTND\n",
      "var is  FSNT\n",
      "var is  FSNS\n",
      "var is  FLNT\n",
      "var is  FLNS\n",
      "These time steps are cut: [  47   95  143  191  239  287  335  383  431  479  527  575  623  671\n",
      "  719  767  815  863  911  959 1007 1055 1103 1151 1199 1247 1295 1343\n",
      " 1391 1439 1487 1535 1583 1631 1679]\n",
      "02/05/2020 05:02:31 PM Stack and reshape dataarray\n",
      "02/05/2020 05:02:33 PM Save dataarray as /scratch/07064/tg863631/PrepData/CI_SP_P4K_valid.nc\n",
      "02/05/2020 05:15:52 PM Done!\n",
      "02/05/2020 05:15:52 PM Finish entire preprocessing script.\n"
     ]
    }
   ],
   "source": [
    "!python preprocessing-11132019.py -c /home1/07064/tg863631/CBrain_project/PrepData/CI_SP_P4K.yml"
   ]
  },
  {
   "cell_type": "markdown",
   "metadata": {},
   "source": [
    "### Relative humidity, norm file for (-4K)"
   ]
  },
  {
   "cell_type": "code",
   "execution_count": 6,
   "metadata": {},
   "outputs": [
    {
     "name": "stdout",
     "output_type": "stream",
     "text": [
      "/home1/07064/tg863631/anaconda3/envs/CbrainCustomLayer/lib/python3.6/site-packages/tensorflow/python/framework/dtypes.py:523: FutureWarning: Passing (type, 1) or '1type' as a synonym of type is deprecated; in a future version of numpy, it will be understood as (type, (1,)) / '(1,)type'.\n",
      "  _np_qint8 = np.dtype([(\"qint8\", np.int8, 1)])\n",
      "/home1/07064/tg863631/anaconda3/envs/CbrainCustomLayer/lib/python3.6/site-packages/tensorflow/python/framework/dtypes.py:524: FutureWarning: Passing (type, 1) or '1type' as a synonym of type is deprecated; in a future version of numpy, it will be understood as (type, (1,)) / '(1,)type'.\n",
      "  _np_quint8 = np.dtype([(\"quint8\", np.uint8, 1)])\n",
      "/home1/07064/tg863631/anaconda3/envs/CbrainCustomLayer/lib/python3.6/site-packages/tensorflow/python/framework/dtypes.py:525: FutureWarning: Passing (type, 1) or '1type' as a synonym of type is deprecated; in a future version of numpy, it will be understood as (type, (1,)) / '(1,)type'.\n",
      "  _np_qint16 = np.dtype([(\"qint16\", np.int16, 1)])\n",
      "/home1/07064/tg863631/anaconda3/envs/CbrainCustomLayer/lib/python3.6/site-packages/tensorflow/python/framework/dtypes.py:526: FutureWarning: Passing (type, 1) or '1type' as a synonym of type is deprecated; in a future version of numpy, it will be understood as (type, (1,)) / '(1,)type'.\n",
      "  _np_quint16 = np.dtype([(\"quint16\", np.uint16, 1)])\n",
      "/home1/07064/tg863631/anaconda3/envs/CbrainCustomLayer/lib/python3.6/site-packages/tensorflow/python/framework/dtypes.py:527: FutureWarning: Passing (type, 1) or '1type' as a synonym of type is deprecated; in a future version of numpy, it will be understood as (type, (1,)) / '(1,)type'.\n",
      "  _np_qint32 = np.dtype([(\"qint32\", np.int32, 1)])\n",
      "/home1/07064/tg863631/anaconda3/envs/CbrainCustomLayer/lib/python3.6/site-packages/tensorflow/python/framework/dtypes.py:532: FutureWarning: Passing (type, 1) or '1type' as a synonym of type is deprecated; in a future version of numpy, it will be understood as (type, (1,)) / '(1,)type'.\n",
      "  np_resource = np.dtype([(\"resource\", np.ubyte, 1)])\n",
      "02/05/2020 03:14:47 PM Preprocess training dataset\n",
      "02/05/2020 03:14:47 PM Start preprocessing file /scratch/07064/tg863631/PrepData/CI_RH_M4K_NORM_train.nc\n",
      "02/05/2020 03:14:47 PM Reading input files\n",
      "02/05/2020 03:14:47 PM Reading input file /scratch/05823/tg851228/CBRAIN/sp8fbp_minus4k/sp8fbp_minus4k.cam2.h2.0001-01-0*-00000.nc\n",
      "/home1/07064/tg863631/CBrain_project/CBRAIN-CAM/cbrain/preprocessing/convert_dataset_20191113.py:404: FutureWarning: In xarray version 0.15 the default behaviour of `open_mfdataset`\n",
      "will change. To retain the existing behavior, pass\n",
      "combine='nested'. To use future default behavior, pass\n",
      "combine='by_coords'. See\n",
      "http://xarray.pydata.org/en/stable/combining.html#combining-multi\n",
      "\n",
      "  ds = xr.open_mfdataset(in_fns, decode_times=False, decode_cf=False, concat_dim='time')\n",
      "/home1/07064/tg863631/anaconda3/envs/CbrainCustomLayer/lib/python3.6/site-packages/xarray/backends/api.py:933: FutureWarning: Also `open_mfdataset` will no longer accept a `concat_dim` argument.\n",
      "To get equivalent behaviour from now on please use the new\n",
      "`combine_nested` function instead (or the `combine='nested'` option to\n",
      "`open_mfdataset`).The datasets supplied have global dimension coordinates. You may want\n",
      "to use the new `combine_by_coords` function (or the\n",
      "`combine='by_coords'` option to `open_mfdataset`) to order the datasets\n",
      "before concatenation. Alternatively, to continue concatenating based\n",
      "on the order the datasets are supplied in future, please use the new\n",
      "`combine_nested` function (or the `combine='nested'` option to\n",
      "open_mfdataset).\n",
      "  from_openmfds=True,\n",
      "02/05/2020 03:15:06 PM Crop levels\n",
      "02/05/2020 03:15:06 PM Create stacked dataarray\n",
      "var is  RH\n",
      "var is  TBP\n",
      "var is  PS\n",
      "var is  SOLIN\n",
      "var is  SHFLX\n",
      "var is  LHFLX\n",
      "var is  PHQ\n",
      "var is  TPHYSTND\n",
      "var is  FSNT\n",
      "var is  FSNS\n",
      "var is  FLNT\n",
      "var is  FLNS\n",
      "These time steps are cut: []\n",
      "02/05/2020 03:18:16 PM Stack and reshape dataarray\n",
      "02/05/2020 03:18:16 PM Save dataarray as /scratch/07064/tg863631/PrepData/CI_RH_M4K_NORM_train.nc\n",
      "02/05/2020 03:24:19 PM Done!\n",
      "02/05/2020 03:24:19 PM Shuffle training dataset\n",
      "02/05/2020 03:24:19 PM Start shuffling /scratch/07064/tg863631/PrepData/CI_RH_M4K_NORM_train.nc into /scratch/07064/tg863631/PrepData/CI_RH_M4K_NORM_train_shuffle.nc. Open and create datasets.\n",
      "02/05/2020 03:24:20 PM Shuffle!\n",
      "100%|█████████████████████████████████████████████| 1/1 [00:43<00:00, 43.16s/it]\n",
      "02/05/2020 03:25:04 PM Closing datasets\n",
      "02/05/2020 03:25:04 PM Done!\n",
      "02/05/2020 03:25:04 PM Preprocess validation dataset\n",
      "02/05/2020 03:25:04 PM Start preprocessing file /scratch/07064/tg863631/PrepData/CI_RH_M4K_NORM_valid.nc\n",
      "02/05/2020 03:25:04 PM Reading input files\n",
      "02/05/2020 03:25:04 PM Reading input file /scratch/05823/tg851228/CBRAIN/sp8fbp_minus4k/sp8fbp_minus4k.cam2.h2.0001-01-0*-00000.nc\n",
      "/home1/07064/tg863631/CBrain_project/CBRAIN-CAM/cbrain/preprocessing/convert_dataset_20191113.py:404: FutureWarning: In xarray version 0.15 the default behaviour of `open_mfdataset`\n",
      "will change. To retain the existing behavior, pass\n",
      "combine='nested'. To use future default behavior, pass\n",
      "combine='by_coords'. See\n",
      "http://xarray.pydata.org/en/stable/combining.html#combining-multi\n",
      "\n",
      "  ds = xr.open_mfdataset(in_fns, decode_times=False, decode_cf=False, concat_dim='time')\n",
      "/home1/07064/tg863631/anaconda3/envs/CbrainCustomLayer/lib/python3.6/site-packages/xarray/backends/api.py:933: FutureWarning: Also `open_mfdataset` will no longer accept a `concat_dim` argument.\n",
      "To get equivalent behaviour from now on please use the new\n",
      "`combine_nested` function instead (or the `combine='nested'` option to\n",
      "`open_mfdataset`).The datasets supplied have global dimension coordinates. You may want\n",
      "to use the new `combine_by_coords` function (or the\n",
      "`combine='by_coords'` option to `open_mfdataset`) to order the datasets\n",
      "before concatenation. Alternatively, to continue concatenating based\n",
      "on the order the datasets are supplied in future, please use the new\n",
      "`combine_nested` function (or the `combine='nested'` option to\n",
      "open_mfdataset).\n",
      "  from_openmfds=True,\n",
      "02/05/2020 03:25:16 PM Crop levels\n",
      "02/05/2020 03:25:16 PM Create stacked dataarray\n",
      "var is  RH\n",
      "var is  TBP\n",
      "var is  PS\n",
      "var is  SOLIN\n",
      "var is  SHFLX\n",
      "var is  LHFLX\n",
      "var is  PHQ\n",
      "var is  TPHYSTND\n",
      "var is  FSNT\n",
      "var is  FSNS\n",
      "var is  FLNT\n",
      "var is  FLNS\n",
      "These time steps are cut: []\n",
      "02/05/2020 03:28:20 PM Stack and reshape dataarray\n",
      "02/05/2020 03:28:20 PM Save dataarray as /scratch/07064/tg863631/PrepData/CI_RH_M4K_NORM_valid.nc\n",
      "02/05/2020 03:34:11 PM Done!\n",
      "02/05/2020 03:34:11 PM Compute normalization file from train\n",
      "02/05/2020 03:34:11 PM Start normalizing by creating dataset.\n",
      "02/05/2020 03:34:12 PM Compute standard normalizations.\n",
      "02/05/2020 03:35:20 PM Saving normalization file as /scratch/07064/tg863631/PrepData/CI_RH_M4K_NORM_norm.nc\n",
      "02/05/2020 03:35:20 PM Done!\n",
      "02/05/2020 03:35:20 PM Finish entire preprocessing script.\n"
     ]
    }
   ],
   "source": [
    "!python preprocessing-11132019.py -c /home1/07064/tg863631/CBrain_project/PrepData/CI_RH_M4K_NORM.yml"
   ]
  },
  {
   "cell_type": "code",
   "execution_count": null,
   "metadata": {},
   "outputs": [],
   "source": []
  },
  {
   "cell_type": "code",
   "execution_count": null,
   "metadata": {},
   "outputs": [],
   "source": []
  },
  {
   "cell_type": "code",
   "execution_count": null,
   "metadata": {},
   "outputs": [],
   "source": []
  },
  {
   "cell_type": "markdown",
   "metadata": {},
   "source": [
    "\n",
    "## Build and train models on (-4K) with and without the first input rescaling"
   ]
  },
  {
   "cell_type": "markdown",
   "metadata": {},
   "source": [
    "### Generator using specific humidity inputs at (-4K)"
   ]
  },
  {
   "cell_type": "code",
   "execution_count": 2,
   "metadata": {},
   "outputs": [],
   "source": [
    "scale_dict = load_pickle('/home1/07064/tg863631/CBrain_project/CBRAIN-CAM/nn_config/scale_dicts/009_Wm2_scaling.pkl')"
   ]
  },
  {
   "cell_type": "code",
   "execution_count": 3,
   "metadata": {},
   "outputs": [],
   "source": [
    "in_vars = ['QBP','TBP','PS', 'SOLIN', 'SHFLX', 'LHFLX']\n",
    "out_vars = ['PHQ','TPHYSTND','FSNT', 'FSNS', 'FLNT', 'FLNS']"
   ]
  },
  {
   "cell_type": "code",
   "execution_count": 2,
   "metadata": {},
   "outputs": [],
   "source": [
    "TRAINDIR = '/scratch/07064/tg863631/PrepData/'\n",
    "TRAINFILE = 'CI_SP_M4K_train_shuffle.nc'\n",
    "NORMFILE = 'CI_SP_M4K_NORM_norm.nc'\n",
    "VALIDFILE = 'CI_SP_M4K_valid.nc'"
   ]
  },
  {
   "cell_type": "code",
   "execution_count": 5,
   "metadata": {},
   "outputs": [],
   "source": [
    "\n",
    "train_gen = DataGenerator(\n",
    "    data_fn = TRAINDIR+TRAINFILE,\n",
    "    input_vars = in_vars,\n",
    "    output_vars = out_vars,\n",
    "    norm_fn = TRAINDIR+NORMFILE,\n",
    "    input_transform = ('mean', 'maxrs'),\n",
    "    output_transform = scale_dict,\n",
    "    batch_size=1024,\n",
    "    shuffle=True\n",
    ")"
   ]
  },
  {
   "cell_type": "code",
   "execution_count": 6,
   "metadata": {},
   "outputs": [],
   "source": [
    "valid_gen = DataGenerator(\n",
    "    data_fn = TRAINDIR+VALIDFILE,\n",
    "    input_vars = in_vars,\n",
    "    output_vars = out_vars,\n",
    "    norm_fn = TRAINDIR+NORMFILE,\n",
    "    input_transform = ('mean', 'maxrs'),\n",
    "    output_transform = scale_dict,\n",
    "    batch_size=1024,\n",
    "    shuffle=True\n",
    ")"
   ]
  },
  {
   "cell_type": "code",
   "execution_count": 7,
   "metadata": {},
   "outputs": [
    {
     "name": "stdout",
     "output_type": "stream",
     "text": [
      "(1024, 64)\n",
      "(1024, 64)\n",
      "(1024, 64)\n",
      "(1024, 64)\n"
     ]
    }
   ],
   "source": [
    "print(valid_gen[50][0].shape)\n",
    "print(train_gen[50][1].shape)\n",
    "print(valid_gen[78][0].shape)\n",
    "print(valid_gen[78][1].shape)"
   ]
  },
  {
   "cell_type": "markdown",
   "metadata": {},
   "source": [
    "### Generator using relative humidity inputs"
   ]
  },
  {
   "cell_type": "code",
   "execution_count": 8,
   "metadata": {},
   "outputs": [],
   "source": [
    "scale_dict_RH = load_pickle('/home1/07064/tg863631/CBrain_project/CBRAIN-CAM/nn_config/scale_dicts/009_Wm2_scaling.pkl')"
   ]
  },
  {
   "cell_type": "code",
   "execution_count": 9,
   "metadata": {},
   "outputs": [],
   "source": [
    "scale_dict_RH['RH'] = 0.01*L_S/G, # Arbitrary 0.1 factor as specific humidity is generally below 2%\n"
   ]
  },
  {
   "cell_type": "code",
   "execution_count": 10,
   "metadata": {},
   "outputs": [],
   "source": [
    "in_vars_RH = ['RH','TBP','PS', 'SOLIN', 'SHFLX', 'LHFLX']\n",
    "out_vars_RH = ['PHQ','TPHYSTND','FSNT', 'FSNS', 'FLNT', 'FLNS']"
   ]
  },
  {
   "cell_type": "code",
   "execution_count": 11,
   "metadata": {},
   "outputs": [],
   "source": [
    "TRAINFILE_RH = 'CI_RH_M4K_NORM_train_shuffle.nc'\n",
    "NORMFILE_RH = 'CI_RH_M4K_NORM_norm.nc'\n",
    "VALIDFILE_RH = 'CI_RH_M4K_NORM_valid.nc'"
   ]
  },
  {
   "cell_type": "code",
   "execution_count": 22,
   "metadata": {},
   "outputs": [],
   "source": [
    "train_gen_RH = DataGenerator(\n",
    "    data_fn = TRAINDIR+TRAINFILE_RH,\n",
    "    input_vars = in_vars_RH,\n",
    "    output_vars = out_vars_RH,\n",
    "    norm_fn = TRAINDIR+NORMFILE_RH,\n",
    "    input_transform = ('mean', 'maxrs'),\n",
    "    output_transform = scale_dict_RH,\n",
    "    batch_size=1024,\n",
    "    shuffle=True\n",
    ")"
   ]
  },
  {
   "cell_type": "code",
   "execution_count": 23,
   "metadata": {},
   "outputs": [
    {
     "name": "stdout",
     "output_type": "stream",
     "text": [
      "(1024, 64)\n",
      "(1024, 64)\n",
      "(1024, 64)\n",
      "(1024, 64)\n"
     ]
    }
   ],
   "source": [
    "print(train_gen_RH[50][0].shape)\n",
    "print(train_gen_RH[50][1].shape)\n",
    "print(train_gen_RH[78][0].shape)\n",
    "print(train_gen_RH[78][1].shape)"
   ]
  },
  {
   "cell_type": "markdown",
   "metadata": {},
   "source": [
    "### Build \"brute-force\" model"
   ]
  },
  {
   "cell_type": "code",
   "execution_count": 14,
   "metadata": {},
   "outputs": [],
   "source": [
    "inp = Input(shape=(64,))\n",
    "densout = Dense(128, activation='linear')(inp)\n",
    "densout = LeakyReLU(alpha=0.3)(densout)\n",
    "for i in range (6):\n",
    "    densout = Dense(128, activation='linear')(densout)\n",
    "    densout = LeakyReLU(alpha=0.3)(densout)\n",
    "out = Dense(64, activation='linear')(densout)\n",
    "Brute_force = tf.keras.models.Model(inp, out)"
   ]
  },
  {
   "cell_type": "code",
   "execution_count": 15,
   "metadata": {},
   "outputs": [
    {
     "name": "stdout",
     "output_type": "stream",
     "text": [
      "_________________________________________________________________\n",
      "Layer (type)                 Output Shape              Param #   \n",
      "=================================================================\n",
      "input_1 (InputLayer)         (None, 64)                0         \n",
      "_________________________________________________________________\n",
      "dense (Dense)                (None, 128)               8320      \n",
      "_________________________________________________________________\n",
      "leaky_re_lu (LeakyReLU)      (None, 128)               0         \n",
      "_________________________________________________________________\n",
      "dense_1 (Dense)              (None, 128)               16512     \n",
      "_________________________________________________________________\n",
      "leaky_re_lu_1 (LeakyReLU)    (None, 128)               0         \n",
      "_________________________________________________________________\n",
      "dense_2 (Dense)              (None, 128)               16512     \n",
      "_________________________________________________________________\n",
      "leaky_re_lu_2 (LeakyReLU)    (None, 128)               0         \n",
      "_________________________________________________________________\n",
      "dense_3 (Dense)              (None, 128)               16512     \n",
      "_________________________________________________________________\n",
      "leaky_re_lu_3 (LeakyReLU)    (None, 128)               0         \n",
      "_________________________________________________________________\n",
      "dense_4 (Dense)              (None, 128)               16512     \n",
      "_________________________________________________________________\n",
      "leaky_re_lu_4 (LeakyReLU)    (None, 128)               0         \n",
      "_________________________________________________________________\n",
      "dense_5 (Dense)              (None, 128)               16512     \n",
      "_________________________________________________________________\n",
      "leaky_re_lu_5 (LeakyReLU)    (None, 128)               0         \n",
      "_________________________________________________________________\n",
      "dense_6 (Dense)              (None, 128)               16512     \n",
      "_________________________________________________________________\n",
      "leaky_re_lu_6 (LeakyReLU)    (None, 128)               0         \n",
      "_________________________________________________________________\n",
      "dense_7 (Dense)              (None, 64)                8256      \n",
      "=================================================================\n",
      "Total params: 115,648\n",
      "Trainable params: 115,648\n",
      "Non-trainable params: 0\n",
      "_________________________________________________________________\n"
     ]
    }
   ],
   "source": [
    "Brute_force.summary()\n"
   ]
  },
  {
   "cell_type": "markdown",
   "metadata": {},
   "source": [
    "### Build model converting specific humidity to relative humidity as inputs"
   ]
  },
  {
   "cell_type": "code",
   "execution_count": 16,
   "metadata": {},
   "outputs": [],
   "source": [
    "# Moist thermodynamics library adapted to tf\n",
    "def eliq(T):\n",
    "    a_liq = np.float32(np.array([-0.976195544e-15,-0.952447341e-13,\\\n",
    "                                 0.640689451e-10,\\\n",
    "                      0.206739458e-7,0.302950461e-5,0.264847430e-3,\\\n",
    "                      0.142986287e-1,0.443987641,6.11239921]));\n",
    "    c_liq = np.float32(-80.0)\n",
    "    T0 = np.float32(273.16)\n",
    "    return np.float32(100.0)*tfm.polyval(a_liq,tfm.maximum(c_liq,T-T0))\n",
    "\n",
    "def eice(T):\n",
    "    a_ice = np.float32(np.array([0.252751365e-14,0.146898966e-11,0.385852041e-9,\\\n",
    "                      0.602588177e-7,0.615021634e-5,0.420895665e-3,\\\n",
    "                      0.188439774e-1,0.503160820,6.11147274]));\n",
    "    c_ice = np.float32(np.array([273.15,185,-100,0.00763685,0.000151069,7.48215e-07]))\n",
    "    T0 = np.float32(273.16)\n",
    "    return tf.where(T>c_ice[0],eliq(T),\\\n",
    "                   tf.where(T<=c_ice[1],np.float32(100.0)*(c_ice[3]+tfm.maximum(c_ice[2],T-T0)*\\\n",
    "                   (c_ice[4]+tfm.maximum(c_ice[2],T-T0)*c_ice[5])),\\\n",
    "                           np.float32(100.0)*tfm.polyval(a_ice,T-T0)))\n",
    "\n",
    "def esat(T):\n",
    "    T0 = np.float32(273.16)\n",
    "    T00 = np.float32(253.16)\n",
    "    omtmp = (T-T00)/(T0-T00)\n",
    "    omega = tfm.maximum(np.float32(0.0),tfm.minimum(np.float32(1.0),omtmp))\n",
    "\n",
    "    return tf.where(T>T0,eliq(T),tf.where(T<T00,eice(T),(omega*eliq(T)+(1-omega)*eice(T))))\n",
    "\n",
    "def qv(T,RH,P0,PS,hyam,hybm):\n",
    "    \n",
    "    R = np.float32(287.0)\n",
    "    Rv = np.float32(461.0)\n",
    "    p = P0 * hyam + PS[:, None] * hybm # Total pressure (Pa)\n",
    "    \n",
    "    T = tf.cast(T,tf.float32)\n",
    "    RH = tf.cast(RH,tf.float32)\n",
    "    p = tf.cast(p,tf.float32)\n",
    "    \n",
    "    return R*esat(T)*RH/(Rv*p)\n",
    "    # DEBUG 1\n",
    "    # return esat(T)\n",
    "    \n",
    "def RH(T,qv,P0,PS,hyam,hybm):\n",
    "    R = np.float32(287.0)\n",
    "    Rv = np.float32(461.0)\n",
    "    p = P0 * hyam + PS[:, None] * hybm # Total pressure (Pa)\n",
    "    \n",
    "    T = tf.cast(T,tf.float32)\n",
    "    qv = tf.cast(qv,tf.float32)\n",
    "    p = tf.cast(p,tf.float32)\n",
    "    \n",
    "    return Rv*p*qv/(R*esat(T))"
   ]
  },
  {
   "cell_type": "code",
   "execution_count": 17,
   "metadata": {},
   "outputs": [],
   "source": [
    "class QV2RH(Layer):\n",
    "    def __init__(self, inp_subQ, inp_divQ, inp_subRH, inp_divRH, hyam, hybm, **kwargs):\n",
    "        \"\"\"\n",
    "        Call using ([input])\n",
    "        Assumes\n",
    "        prior: [QBP, \n",
    "        TBP, PS, SOLIN, SHFLX, LHFLX]\n",
    "        Returns\n",
    "        post(erior): [RHBP,\n",
    "        TBP, PS, SOLIN, SHFLX, LHFLX]\n",
    "        Arguments:\n",
    "        inp_subQ = Normalization based on input with specific humidity (subtraction constant)\n",
    "        inp_divQ = Normalization based on input with specific humidity (division constant)\n",
    "        int_subRH = Normalization based on input with relative humidity (subtraction constant)\n",
    "        inp_divRH = Normalization based on input with relative humidity (division constant)\n",
    "        hyam = Constant a for pressure based on mid-levels\n",
    "        hybm = Constant b for pressure based on mid-levels\n",
    "        \"\"\"\n",
    "        self.inp_subQ, self.inp_divQ, self.inp_subRH, self.inp_divRH, self.hyam, self.hybm = \\\n",
    "            np.array(inp_subQ), np.array(inp_divQ), np.array(inp_subRH), np.array(inp_divRH), \\\n",
    "        np.array(hyam), np.array(hybm)\n",
    "        # Define variable indices here\n",
    "        # Input\n",
    "        self.QBP_idx = slice(0,30)\n",
    "        self.TBP_idx = slice(30,60)\n",
    "        self.PS_idx = 60\n",
    "        self.SHFLX_idx = 62\n",
    "        self.LHFLX_idx = 63\n",
    "\n",
    "        super().__init__(**kwargs)\n",
    "\n",
    "    def build(self, input_shape):\n",
    "        super().build(input_shape)\n",
    "\n",
    "    def get_config(self):\n",
    "        config = {'inp_subQ': list(self.inp_subQ), 'inp_divQ': list(self.inp_divQ),\n",
    "                  'inp_subRH': list(self.inp_subRH), 'inp_divRH': list(self.inp_divRH),\n",
    "                  'hyam': list(self.hyam),'hybm': list(self.hybm)}\n",
    "        base_config = super().get_config()\n",
    "        return dict(list(base_config.items()) + list(config.items()))\n",
    "    \n",
    "    def call(self, arrs):\n",
    "        prior = arrs\n",
    "        \n",
    "        Tprior = prior[:,self.TBP_idx]*self.inp_divQ[self.TBP_idx]+self.inp_subQ[self.TBP_idx]\n",
    "        qvprior = prior[:,self.QBP_idx]*self.inp_divQ[self.QBP_idx]+self.inp_subQ[self.QBP_idx]\n",
    "        PSprior = prior[:,self.PS_idx]*self.inp_divQ[self.PS_idx]+self.inp_subQ[self.PS_idx]\n",
    "        RHprior = (RH(Tprior,qvprior,P0,PSprior,self.hyam,self.hybm)-\\\n",
    "                    self.inp_subRH[self.QBP_idx])/self.inp_divRH[self.QBP_idx]\n",
    "        \n",
    "        post = tf.concat([tf.cast(RHprior,tf.float32),prior[:,30:]], axis=1)\n",
    "        \n",
    "        return post\n",
    "\n",
    "    def compute_output_shape(self,input_shape):\n",
    "        \"\"\"Input shape + 1\"\"\"\n",
    "        return (input_shape[0][0])"
   ]
  },
  {
   "cell_type": "code",
   "execution_count": 18,
   "metadata": {},
   "outputs": [],
   "source": [
    "\n",
    "path = '/home1/07064/tg863631/CBrain_project/CBRAIN-CAM/cbrain/'\n",
    "path_hyam = 'hyam_hybm.pkl'\n",
    "hf = open(path+path_hyam,'rb')\n",
    "hyam,hybm = pickle.load(hf)"
   ]
  },
  {
   "cell_type": "code",
   "execution_count": 19,
   "metadata": {},
   "outputs": [],
   "source": [
    "inp = Input(shape=(64,))\n",
    "inpRH = QV2RH(inp_subQ=train_gen.input_transform.sub, \n",
    "              inp_divQ=train_gen.input_transform.div, \n",
    "              inp_subRH=train_gen_RH.input_transform.sub, \n",
    "              inp_divRH=train_gen_RH.input_transform.div, \n",
    "              hyam=hyam, hybm=hybm)(inp)\n",
    "densout = Dense(128, activation='linear')(inpRH)\n",
    "densout = LeakyReLU(alpha=0.3)(densout)\n",
    "for i in range (6):\n",
    "    densout = Dense(128, activation='linear')(densout)\n",
    "    densout = LeakyReLU(alpha=0.3)(densout)\n",
    "out = Dense(64, activation='linear')(densout)\n",
    "Input_RH = tf.keras.models.Model(inp, out)"
   ]
  },
  {
   "cell_type": "code",
   "execution_count": 20,
   "metadata": {},
   "outputs": [
    {
     "name": "stdout",
     "output_type": "stream",
     "text": [
      "_________________________________________________________________\n",
      "Layer (type)                 Output Shape              Param #   \n",
      "=================================================================\n",
      "input_2 (InputLayer)         (None, 64)                0         \n",
      "_________________________________________________________________\n",
      "q_v2rh (QV2RH)               (None, 64)                0         \n",
      "_________________________________________________________________\n",
      "dense_8 (Dense)              (None, 128)               8320      \n",
      "_________________________________________________________________\n",
      "leaky_re_lu_7 (LeakyReLU)    (None, 128)               0         \n",
      "_________________________________________________________________\n",
      "dense_9 (Dense)              (None, 128)               16512     \n",
      "_________________________________________________________________\n",
      "leaky_re_lu_8 (LeakyReLU)    (None, 128)               0         \n",
      "_________________________________________________________________\n",
      "dense_10 (Dense)             (None, 128)               16512     \n",
      "_________________________________________________________________\n",
      "leaky_re_lu_9 (LeakyReLU)    (None, 128)               0         \n",
      "_________________________________________________________________\n",
      "dense_11 (Dense)             (None, 128)               16512     \n",
      "_________________________________________________________________\n",
      "leaky_re_lu_10 (LeakyReLU)   (None, 128)               0         \n",
      "_________________________________________________________________\n",
      "dense_12 (Dense)             (None, 128)               16512     \n",
      "_________________________________________________________________\n",
      "leaky_re_lu_11 (LeakyReLU)   (None, 128)               0         \n",
      "_________________________________________________________________\n",
      "dense_13 (Dense)             (None, 128)               16512     \n",
      "_________________________________________________________________\n",
      "leaky_re_lu_12 (LeakyReLU)   (None, 128)               0         \n",
      "_________________________________________________________________\n",
      "dense_14 (Dense)             (None, 128)               16512     \n",
      "_________________________________________________________________\n",
      "leaky_re_lu_13 (LeakyReLU)   (None, 128)               0         \n",
      "_________________________________________________________________\n",
      "dense_15 (Dense)             (None, 64)                8256      \n",
      "=================================================================\n",
      "Total params: 115,648\n",
      "Trainable params: 115,648\n",
      "Non-trainable params: 0\n",
      "_________________________________________________________________\n"
     ]
    }
   ],
   "source": [
    "Input_RH.summary()\n"
   ]
  },
  {
   "cell_type": "markdown",
   "metadata": {},
   "source": [
    "### Compile and train both models for Nep (e.g. 10) epochs"
   ]
  },
  {
   "cell_type": "code",
   "execution_count": 21,
   "metadata": {},
   "outputs": [],
   "source": [
    "path_HDF5 = '/scratch/07064/tg863631/models/'\n",
    "earlyStopping = EarlyStopping(monitor='val_loss', patience=10, verbose=0, mode='min')\n",
    "mcp_save_BF = ModelCheckpoint(path_HDF5+'CI01_BF.hdf5',save_best_only=True, monitor='val_loss', mode='min')\n",
    "mcp_save_RH = ModelCheckpoint(path_HDF5+'CI01_RH.hdf5',save_best_only=True, monitor='val_loss', mode='min')"
   ]
  },
  {
   "cell_type": "code",
   "execution_count": 24,
   "metadata": {},
   "outputs": [],
   "source": [
    "Brute_force.compile(tf.keras.optimizers.Adam(), loss=mse)\n",
    "# Input_RH.compile(tf.keras.optimizers.Adam(), loss=mse)"
   ]
  },
  {
   "cell_type": "code",
   "execution_count": null,
   "metadata": {},
   "outputs": [
    {
     "name": "stdout",
     "output_type": "stream",
     "text": [
      "Epoch 1/2\n",
      "41376/41376 [==============================] - 4279s 103ms/step - loss: 350.5246 - val_loss: 345.0353\n",
      "Epoch 2/2\n",
      " 3509/41376 [=>............................] - ETA: 50:01 - loss: 349.6673"
     ]
    }
   ],
   "source": [
    "Nep = 2\n",
    "Brute_force.load_weights(path_HDF5+'CI01_BF.hdf5')\n",
    "Brute_force.fit_generator(train_gen, epochs=Nep, validation_data=valid_gen,\\\n",
    "              callbacks=[earlyStopping, mcp_save_BF])"
   ]
  },
  {
   "cell_type": "code",
   "execution_count": null,
   "metadata": {},
   "outputs": [],
   "source": [
    "Nep = 10\n",
    "Input_RH.fit_generator(train_gen, epochs=Nep, validation_data=valid_gen,\\\n",
    "              callbacks=[earlyStopping, mcp_save_RH])"
   ]
  },
  {
   "cell_type": "code",
   "execution_count": null,
   "metadata": {},
   "outputs": [],
   "source": []
  },
  {
   "cell_type": "markdown",
   "metadata": {},
   "source": [
    "## Build model diagnostics objects¶"
   ]
  },
  {
   "cell_type": "code",
   "execution_count": null,
   "metadata": {},
   "outputs": [],
   "source": []
  },
  {
   "cell_type": "code",
   "execution_count": null,
   "metadata": {},
   "outputs": [],
   "source": []
  },
  {
   "cell_type": "code",
   "execution_count": null,
   "metadata": {},
   "outputs": [],
   "source": []
  },
  {
   "cell_type": "code",
   "execution_count": null,
   "metadata": {},
   "outputs": [],
   "source": []
  },
  {
   "cell_type": "code",
   "execution_count": null,
   "metadata": {},
   "outputs": [],
   "source": []
  },
  {
   "cell_type": "code",
   "execution_count": null,
   "metadata": {},
   "outputs": [],
   "source": []
  },
  {
   "cell_type": "code",
   "execution_count": null,
   "metadata": {},
   "outputs": [],
   "source": []
  },
  {
   "cell_type": "markdown",
   "metadata": {},
   "source": [
    "## Input Rescaling 2.1: Temperature difference from near-surface\n"
   ]
  },
  {
   "cell_type": "markdown",
   "metadata": {},
   "source": [
    "### Add code to pre-process the temperature"
   ]
  },
  {
   "cell_type": "markdown",
   "metadata": {},
   "source": [
    "Added to [https://github.com/tbeucler/CBRAIN-CAM/blob/master/cbrain/preprocessing/convert_dataset_20191113.py]\n",
    "def compute_TfromNS(ds):\n",
    "    return compute_bp(ds,'TBP')-compute_bp(ds,'TBP')[:,-1,:,:]\n",
    "Further down:\n",
    "        elif var == 'TfromNS':\n",
    "            da = compute_TfromNS(ds)\n",
    "Here's the configuration file CI_TNS_M4K_NORM.yml:\n",
    "#Climate-invariant - Temperature minus Near-surface temperature - Minus 4K - Norm\n",
    "vars : [QBP, TfromNS, PS, SOLIN, SHFLX, LHFLX, PHQ, TPHYSTND, FSNT, FSNS, FLNT, FLNS]\n",
    "\n",
    "in_dir : /project/meteo/w2w/A6/S.Rasp/SP-CAM/sp8fbp_minus4k\n",
    "in_fns : sp8fbp_minus4k.cam2.h2.0001-01-0*-00000.nc\n",
    "\n",
    "out_dir: /local/Tom.Beucler/SPCAM_PHYS/\n",
    "out_fn: CI_TNS_M4K_NORM_train.nc\n",
    "\n",
    "val_in_fns: sp8fbp_minus4k.cam2.h2.0001-01-0*-00000.nc\n",
    "val_out_fn: CI_TNS_M4K_NORM_valid.nc\n",
    "\n",
    "norm_fn: CI_TNS_M4K_NORM_norm.nc"
   ]
  },
  {
   "cell_type": "code",
   "execution_count": 3,
   "metadata": {},
   "outputs": [
    {
     "name": "stdout",
     "output_type": "stream",
     "text": [
      "/home1/07064/tg863631/anaconda3/envs/CbrainCustomLayer/lib/python3.6/site-packages/tensorflow/python/framework/dtypes.py:523: FutureWarning: Passing (type, 1) or '1type' as a synonym of type is deprecated; in a future version of numpy, it will be understood as (type, (1,)) / '(1,)type'.\n",
      "  _np_qint8 = np.dtype([(\"qint8\", np.int8, 1)])\n",
      "/home1/07064/tg863631/anaconda3/envs/CbrainCustomLayer/lib/python3.6/site-packages/tensorflow/python/framework/dtypes.py:524: FutureWarning: Passing (type, 1) or '1type' as a synonym of type is deprecated; in a future version of numpy, it will be understood as (type, (1,)) / '(1,)type'.\n",
      "  _np_quint8 = np.dtype([(\"quint8\", np.uint8, 1)])\n",
      "/home1/07064/tg863631/anaconda3/envs/CbrainCustomLayer/lib/python3.6/site-packages/tensorflow/python/framework/dtypes.py:525: FutureWarning: Passing (type, 1) or '1type' as a synonym of type is deprecated; in a future version of numpy, it will be understood as (type, (1,)) / '(1,)type'.\n",
      "  _np_qint16 = np.dtype([(\"qint16\", np.int16, 1)])\n",
      "/home1/07064/tg863631/anaconda3/envs/CbrainCustomLayer/lib/python3.6/site-packages/tensorflow/python/framework/dtypes.py:526: FutureWarning: Passing (type, 1) or '1type' as a synonym of type is deprecated; in a future version of numpy, it will be understood as (type, (1,)) / '(1,)type'.\n",
      "  _np_quint16 = np.dtype([(\"quint16\", np.uint16, 1)])\n",
      "/home1/07064/tg863631/anaconda3/envs/CbrainCustomLayer/lib/python3.6/site-packages/tensorflow/python/framework/dtypes.py:527: FutureWarning: Passing (type, 1) or '1type' as a synonym of type is deprecated; in a future version of numpy, it will be understood as (type, (1,)) / '(1,)type'.\n",
      "  _np_qint32 = np.dtype([(\"qint32\", np.int32, 1)])\n",
      "/home1/07064/tg863631/anaconda3/envs/CbrainCustomLayer/lib/python3.6/site-packages/tensorflow/python/framework/dtypes.py:532: FutureWarning: Passing (type, 1) or '1type' as a synonym of type is deprecated; in a future version of numpy, it will be understood as (type, (1,)) / '(1,)type'.\n",
      "  np_resource = np.dtype([(\"resource\", np.ubyte, 1)])\n",
      "02/07/2020 07:44:45 PM Preprocess training dataset\n",
      "02/07/2020 07:44:45 PM Start preprocessing file /scratch/07064/tg863631/PrepData/CI_TNS_M4K_NORM_train.nc\n",
      "02/07/2020 07:44:45 PM Reading input files\n",
      "02/07/2020 07:44:45 PM Reading input file /scratch/05823/tg851228/CBRAIN/sp8fbp_minus4k/sp8fbp_minus4k.cam2.h2.0001-01-0*-00000.nc\n",
      "/home1/07064/tg863631/CBrain_project/CBRAIN-CAM/cbrain/preprocessing/convert_dataset_20191113.py:409: FutureWarning: In xarray version 0.15 the default behaviour of `open_mfdataset`\n",
      "will change. To retain the existing behavior, pass\n",
      "combine='nested'. To use future default behavior, pass\n",
      "combine='by_coords'. See\n",
      "http://xarray.pydata.org/en/stable/combining.html#combining-multi\n",
      "\n",
      "  ds = xr.open_mfdataset(in_fns, decode_times=False, decode_cf=False, concat_dim='time')\n",
      "/home1/07064/tg863631/anaconda3/envs/CbrainCustomLayer/lib/python3.6/site-packages/xarray/backends/api.py:933: FutureWarning: Also `open_mfdataset` will no longer accept a `concat_dim` argument.\n",
      "To get equivalent behaviour from now on please use the new\n",
      "`combine_nested` function instead (or the `combine='nested'` option to\n",
      "`open_mfdataset`).The datasets supplied have global dimension coordinates. You may want\n",
      "to use the new `combine_by_coords` function (or the\n",
      "`combine='by_coords'` option to `open_mfdataset`) to order the datasets\n",
      "before concatenation. Alternatively, to continue concatenating based\n",
      "on the order the datasets are supplied in future, please use the new\n",
      "`combine_nested` function (or the `combine='nested'` option to\n",
      "open_mfdataset).\n",
      "  from_openmfds=True,\n",
      "02/07/2020 07:45:08 PM Crop levels\n",
      "02/07/2020 07:45:08 PM Create stacked dataarray\n",
      "var is  QBP\n",
      "var is  TfromNS\n",
      "var is  PS\n",
      "var is  SOLIN\n",
      "var is  SHFLX\n",
      "var is  LHFLX\n",
      "var is  PHQ\n",
      "var is  TPHYSTND\n",
      "var is  FSNT\n",
      "var is  FSNS\n",
      "var is  FLNT\n",
      "var is  FLNS\n",
      "These time steps are cut: []\n",
      "02/07/2020 07:45:08 PM Stack and reshape dataarray\n",
      "02/07/2020 07:45:09 PM Save dataarray as /scratch/07064/tg863631/PrepData/CI_TNS_M4K_NORM_train.nc\n",
      "02/07/2020 07:47:41 PM Done!\n",
      "02/07/2020 07:47:41 PM Shuffle training dataset\n",
      "02/07/2020 07:47:41 PM Start shuffling /scratch/07064/tg863631/PrepData/CI_TNS_M4K_NORM_train.nc into /scratch/07064/tg863631/PrepData/CI_TNS_M4K_NORM_train_shuffle.nc. Open and create datasets.\n",
      "02/07/2020 07:47:41 PM Shuffle!\n",
      "100%|█████████████████████████████████████████████| 1/1 [00:10<00:00, 10.00s/it]\n",
      "02/07/2020 07:47:51 PM Closing datasets\n",
      "02/07/2020 07:47:51 PM Done!\n",
      "02/07/2020 07:47:51 PM Preprocess validation dataset\n",
      "02/07/2020 07:47:51 PM Start preprocessing file /scratch/07064/tg863631/PrepData/CI_TNS_M4K_NORM_valid.nc\n",
      "02/07/2020 07:47:51 PM Reading input files\n",
      "02/07/2020 07:47:51 PM Reading input file /scratch/05823/tg851228/CBRAIN/sp8fbp_minus4k/sp8fbp_minus4k.cam2.h2.0001-01-0*-00000.nc\n",
      "/home1/07064/tg863631/CBrain_project/CBRAIN-CAM/cbrain/preprocessing/convert_dataset_20191113.py:409: FutureWarning: In xarray version 0.15 the default behaviour of `open_mfdataset`\n",
      "will change. To retain the existing behavior, pass\n",
      "combine='nested'. To use future default behavior, pass\n",
      "combine='by_coords'. See\n",
      "http://xarray.pydata.org/en/stable/combining.html#combining-multi\n",
      "\n",
      "  ds = xr.open_mfdataset(in_fns, decode_times=False, decode_cf=False, concat_dim='time')\n",
      "/home1/07064/tg863631/anaconda3/envs/CbrainCustomLayer/lib/python3.6/site-packages/xarray/backends/api.py:933: FutureWarning: Also `open_mfdataset` will no longer accept a `concat_dim` argument.\n",
      "To get equivalent behaviour from now on please use the new\n",
      "`combine_nested` function instead (or the `combine='nested'` option to\n",
      "`open_mfdataset`).The datasets supplied have global dimension coordinates. You may want\n",
      "to use the new `combine_by_coords` function (or the\n",
      "`combine='by_coords'` option to `open_mfdataset`) to order the datasets\n",
      "before concatenation. Alternatively, to continue concatenating based\n",
      "on the order the datasets are supplied in future, please use the new\n",
      "`combine_nested` function (or the `combine='nested'` option to\n",
      "open_mfdataset).\n",
      "  from_openmfds=True,\n",
      "02/07/2020 07:47:55 PM Crop levels\n",
      "02/07/2020 07:47:55 PM Create stacked dataarray\n",
      "var is  QBP\n",
      "var is  TfromNS\n",
      "var is  PS\n",
      "var is  SOLIN\n",
      "var is  SHFLX\n",
      "var is  LHFLX\n",
      "var is  PHQ\n",
      "var is  TPHYSTND\n",
      "var is  FSNT\n",
      "var is  FSNS\n",
      "var is  FLNT\n",
      "var is  FLNS\n",
      "These time steps are cut: []\n",
      "02/07/2020 07:47:55 PM Stack and reshape dataarray\n",
      "02/07/2020 07:47:56 PM Save dataarray as /scratch/07064/tg863631/PrepData/CI_TNS_M4K_NORM_valid.nc\n",
      "02/07/2020 07:49:52 PM Done!\n",
      "02/07/2020 07:49:52 PM Compute normalization file from train\n",
      "02/07/2020 07:49:52 PM Start normalizing by creating dataset.\n",
      "02/07/2020 07:49:52 PM Compute standard normalizations.\n",
      "02/07/2020 07:50:22 PM Saving normalization file as /scratch/07064/tg863631/PrepData/CI_TNS_M4K_NORM_norm.nc\n",
      "02/07/2020 07:50:22 PM Done!\n",
      "02/07/2020 07:50:22 PM Finish entire preprocessing script.\n"
     ]
    }
   ],
   "source": [
    "!python preprocessing-11132019.py -c /home1/07064/tg863631/CBrain_project/PrepData/CI_TNS_M4K_NORM.yml"
   ]
  },
  {
   "cell_type": "code",
   "execution_count": null,
   "metadata": {},
   "outputs": [],
   "source": []
  },
  {
   "cell_type": "code",
   "execution_count": null,
   "metadata": {},
   "outputs": [],
   "source": []
  },
  {
   "cell_type": "code",
   "execution_count": null,
   "metadata": {},
   "outputs": [],
   "source": []
  },
  {
   "cell_type": "markdown",
   "metadata": {},
   "source": [
    "### Code tensorflow layer to subtract the near-surface temperature from the temperature within the network"
   ]
  },
  {
   "cell_type": "code",
   "execution_count": 8,
   "metadata": {},
   "outputs": [],
   "source": [
    "class T2TmTNS(Layer):\n",
    "    def __init__(self, inp_subT, inp_divT, inp_subTNS, inp_divTNS, hyam, hybm, **kwargs):\n",
    "        \"\"\"\n",
    "        From temperature to (temperature)-(near-surface temperature)\n",
    "        Call using ([input])\n",
    "        Assumes\n",
    "        prior: [QBP, \n",
    "        TBP, \n",
    "        PS, SOLIN, SHFLX, LHFLX]\n",
    "        Returns\n",
    "        post(erior): [QBP,\n",
    "        TfromNS, \n",
    "        PS, SOLIN, SHFLX, LHFLX]\n",
    "        Arguments:\n",
    "        inp_subT = Normalization based on input with temperature (subtraction constant)\n",
    "        inp_divT = Normalization based on input with temperature (division constant)\n",
    "        inp_subTNS = Normalization based on input with (temp - near-sur temp) (subtraction constant)\n",
    "        inp_divTNS = Normalization based on input with (temp - near-sur temp) (division constant)\n",
    "        hyam = Constant a for pressure based on mid-levels\n",
    "        hybm = Constant b for pressure based on mid-levels\n",
    "        \"\"\"\n",
    "        self.inp_subT, self.inp_divT, self.inp_subTNS, self.inp_divTNS, self.hyam, self.hybm = \\\n",
    "            np.array(inp_subT), np.array(inp_divT), np.array(inp_subTNS), np.array(inp_divTNS), \\\n",
    "        np.array(hyam), np.array(hybm)\n",
    "        # Define variable indices here\n",
    "        # Input\n",
    "        self.QBP_idx = slice(0,30)\n",
    "        self.TBP_idx = slice(30,60)\n",
    "        self.PS_idx = 60\n",
    "        self.SHFLX_idx = 62\n",
    "        self.LHFLX_idx = 63\n",
    "\n",
    "        super().__init__(**kwargs)\n",
    "\n",
    "    def build(self, input_shape):\n",
    "        super().build(input_shape)\n",
    "\n",
    "    def get_config(self):\n",
    "        config = {'inp_subT': list(self.inp_subT), 'inp_divT': list(self.inp_divT),\n",
    "                  'inp_subTNS': list(self.inp_subTNS), 'inp_divTNS': list(self.inp_divTNS),\n",
    "                  'hyam': list(self.hyam),'hybm': list(self.hybm)}\n",
    "        base_config = super().get_config()\n",
    "        return dict(list(base_config.items()) + list(config.items()))\n",
    "    \n",
    "    def call(self, arrs):\n",
    "        prior = arrs\n",
    "        \n",
    "        Tprior = prior[:,self.TBP_idx]*self.inp_divT[self.TBP_idx]+self.inp_subT[self.TBP_idx]\n",
    "        \n",
    "        Tile_dim = tf.constant([1,30],tf.int32)\n",
    "        TNSprior = ((Tprior-tf.tile(tf.expand_dims(Tprior[:,-1],axis=1),Tile_dim))-\\\n",
    "                    self.inp_subTNS[self.TBP_idx])/\\\n",
    "        self.inp_divTNS[self.TBP_idx]\n",
    "        \n",
    "        post = tf.concat([prior[:,:30],tf.cast(TNSprior,tf.float32),prior[:,60:]], axis=1)\n",
    "        \n",
    "        return post\n",
    "\n",
    "    def compute_output_shape(self,input_shape):\n",
    "        \"\"\"Input shape + 1\"\"\"\n",
    "        return (input_shape[0][0])"
   ]
  },
  {
   "cell_type": "code",
   "execution_count": null,
   "metadata": {},
   "outputs": [],
   "source": []
  },
  {
   "cell_type": "markdown",
   "metadata": {},
   "source": [
    "### Build Generators"
   ]
  },
  {
   "cell_type": "markdown",
   "metadata": {},
   "source": [
    "### Generator using specific humidity inputs"
   ]
  },
  {
   "cell_type": "code",
   "execution_count": 9,
   "metadata": {},
   "outputs": [],
   "source": [
    "scale_dict = load_pickle('./nn_config/scale_dicts/009_Wm2_scaling.pkl')\n",
    "\n",
    "in_vars = ['QBP','TBP','PS', 'SOLIN', 'SHFLX', 'LHFLX']\n",
    "out_vars = ['PHQ','TPHYSTND','FSNT', 'FSNS', 'FLNT', 'FLNS']\n",
    "\n",
    "\n",
    "TRAINFILE = 'CI_SP_M4K_train_shuffle.nc'\n",
    "NORMFILE = 'CI_SP_M4K_NORM_norm.nc'\n",
    "VALIDFILE = 'CI_SP_M4K_valid.nc'\n",
    "\n",
    "\n",
    "train_gen = DataGenerator(\n",
    "    data_fn = TRAINDIR+TRAINFILE,\n",
    "    input_vars = in_vars,\n",
    "    output_vars = out_vars,\n",
    "    norm_fn = TRAINDIR+NORMFILE,\n",
    "    input_transform = ('mean', 'maxrs'),\n",
    "    output_transform = scale_dict,\n",
    "    batch_size=1024,\n",
    "    shuffle=True\n",
    ")\n",
    "\n",
    "valid_gen = DataGenerator(\n",
    "    data_fn = TRAINDIR+VALIDFILE,\n",
    "    input_vars = in_vars,\n",
    "    output_vars = out_vars,\n",
    "    norm_fn = TRAINDIR+NORMFILE,\n",
    "    input_transform = ('mean', 'maxrs'),\n",
    "    output_transform = scale_dict,\n",
    "    batch_size=1024,\n",
    "    shuffle=True\n",
    ")"
   ]
  },
  {
   "cell_type": "code",
   "execution_count": 10,
   "metadata": {},
   "outputs": [
    {
     "name": "stdout",
     "output_type": "stream",
     "text": [
      "(1024, 64)\n",
      "(1024, 64)\n",
      "(1024, 64)\n",
      "(1024, 64)\n"
     ]
    }
   ],
   "source": [
    "print(train_gen[50][0].shape)\n",
    "print(train_gen[50][1].shape)\n",
    "print(valid_gen[78][0].shape)\n",
    "print(valid_gen[78][1].shape)"
   ]
  },
  {
   "cell_type": "markdown",
   "metadata": {},
   "source": [
    "### Generator using (T-T_{near-surface}) inputs"
   ]
  },
  {
   "cell_type": "code",
   "execution_count": 11,
   "metadata": {},
   "outputs": [],
   "source": [
    "in_vars = ['QBP','TfromNS','PS', 'SOLIN', 'SHFLX', 'LHFLX']\n",
    "out_vars = ['PHQ','TPHYSTND','FSNT', 'FSNS', 'FLNT', 'FLNS']"
   ]
  },
  {
   "cell_type": "code",
   "execution_count": 12,
   "metadata": {},
   "outputs": [],
   "source": [
    "TRAINFILE_TNS = 'CI_TNS_M4K_NORM_train_shuffle.nc'\n",
    "NORMFILE_TNS = 'CI_TNS_M4K_NORM_norm.nc'\n",
    "VALIDFILE_TNS = 'CI_TNS_M4K_NORM_valid.nc'"
   ]
  },
  {
   "cell_type": "code",
   "execution_count": 13,
   "metadata": {},
   "outputs": [],
   "source": [
    "train_gen_TNS = DataGenerator(\n",
    "    data_fn = TRAINDIR+TRAINFILE_TNS,\n",
    "    input_vars = in_vars,\n",
    "    output_vars = out_vars,\n",
    "    norm_fn = TRAINDIR+NORMFILE_TNS,\n",
    "    input_transform = ('mean', 'maxrs'),\n",
    "    output_transform = scale_dict,\n",
    "    batch_size=1024,\n",
    "    shuffle=True\n",
    ")"
   ]
  },
  {
   "cell_type": "code",
   "execution_count": 14,
   "metadata": {},
   "outputs": [
    {
     "name": "stdout",
     "output_type": "stream",
     "text": [
      "(1024, 64)\n",
      "(1024, 64)\n",
      "(1024, 64)\n",
      "(1024, 64)\n"
     ]
    }
   ],
   "source": [
    "print(train_gen_TNS[50][0].shape)\n",
    "print(train_gen_TNS[50][1].shape)\n",
    "print(train_gen_TNS[78][0].shape)\n",
    "print(train_gen_TNS[78][1].shape)"
   ]
  },
  {
   "cell_type": "markdown",
   "metadata": {},
   "source": [
    "### Generator using RH inputs"
   ]
  },
  {
   "cell_type": "code",
   "execution_count": 15,
   "metadata": {},
   "outputs": [],
   "source": [
    "scale_dict_RH = load_pickle('./nn_config/scale_dicts/009_Wm2_scaling.pkl')\n",
    "\n",
    "scale_dict_RH['RH'] = 0.01*L_S/G, # Arbitrary 0.1 factor as specific humidity is generally below 2%\n",
    "\n",
    "in_vars_RH = ['RH','TBP','PS', 'SOLIN', 'SHFLX', 'LHFLX']\n",
    "out_vars_RH = ['PHQ','TPHYSTND','FSNT', 'FSNS', 'FLNT', 'FLNS']\n",
    "\n",
    "TRAINFILE_RH = 'CI_RH_M4K_NORM_train_shuffle.nc'\n",
    "NORMFILE_RH = 'CI_RH_M4K_NORM_norm.nc'\n",
    "VALIDFILE_RH = 'CI_RH_M4K_NORM_valid.nc'\n",
    "\n",
    "train_gen_RH = DataGenerator(\n",
    "    data_fn = TRAINDIR+TRAINFILE_RH,\n",
    "    input_vars = in_vars_RH,\n",
    "    output_vars = out_vars_RH,\n",
    "    norm_fn = TRAINDIR+NORMFILE_RH,\n",
    "    input_transform = ('mean', 'maxrs'),\n",
    "    output_transform = scale_dict_RH,\n",
    "    batch_size=1024,\n",
    "    shuffle=True\n",
    ")"
   ]
  },
  {
   "cell_type": "code",
   "execution_count": 16,
   "metadata": {},
   "outputs": [
    {
     "name": "stdout",
     "output_type": "stream",
     "text": [
      "(1024, 64)\n",
      "(1024, 64)\n",
      "(1024, 64)\n",
      "(1024, 64)\n"
     ]
    }
   ],
   "source": [
    "print(train_gen_RH[50][0].shape)\n",
    "print(train_gen_RH[50][1].shape)\n",
    "print(train_gen_RH[78][0].shape)\n",
    "print(train_gen_RH[78][1].shape)"
   ]
  },
  {
   "cell_type": "markdown",
   "metadata": {},
   "source": [
    "### Build model converting temperature to (temperature-temperature_{NS}) as inputs"
   ]
  },
  {
   "cell_type": "markdown",
   "metadata": {},
   "source": [
    "### Replace T with T-Tns"
   ]
  },
  {
   "cell_type": "code",
   "execution_count": 19,
   "metadata": {},
   "outputs": [],
   "source": [
    "inp = Input(shape=(64,))\n",
    "inpTNS = T2TmTNS(inp_subT=train_gen.input_transform.sub, \n",
    "              inp_divT=train_gen.input_transform.div, \n",
    "              inp_subTNS=train_gen_TNS.input_transform.sub, \n",
    "              inp_divTNS=train_gen_TNS.input_transform.div, \n",
    "              hyam=hyam, hybm=hybm)(inp)\n",
    "densout = Dense(128, activation='linear')(inpTNS)\n",
    "densout = LeakyReLU(alpha=0.3)(densout)\n",
    "for i in range (6):\n",
    "    densout = Dense(128, activation='linear')(densout)\n",
    "    densout = LeakyReLU(alpha=0.3)(densout)\n",
    "out = Dense(64, activation='linear')(densout)\n",
    "Input_TNS = tf.keras.models.Model(inp, out)"
   ]
  },
  {
   "cell_type": "code",
   "execution_count": 20,
   "metadata": {},
   "outputs": [
    {
     "name": "stdout",
     "output_type": "stream",
     "text": [
      "_________________________________________________________________\n",
      "Layer (type)                 Output Shape              Param #   \n",
      "=================================================================\n",
      "input_2 (InputLayer)         (None, 64)                0         \n",
      "_________________________________________________________________\n",
      "t2_tm_tns (T2TmTNS)          (None, 64)                0         \n",
      "_________________________________________________________________\n",
      "dense (Dense)                (None, 128)               8320      \n",
      "_________________________________________________________________\n",
      "leaky_re_lu (LeakyReLU)      (None, 128)               0         \n",
      "_________________________________________________________________\n",
      "dense_1 (Dense)              (None, 128)               16512     \n",
      "_________________________________________________________________\n",
      "leaky_re_lu_1 (LeakyReLU)    (None, 128)               0         \n",
      "_________________________________________________________________\n",
      "dense_2 (Dense)              (None, 128)               16512     \n",
      "_________________________________________________________________\n",
      "leaky_re_lu_2 (LeakyReLU)    (None, 128)               0         \n",
      "_________________________________________________________________\n",
      "dense_3 (Dense)              (None, 128)               16512     \n",
      "_________________________________________________________________\n",
      "leaky_re_lu_3 (LeakyReLU)    (None, 128)               0         \n",
      "_________________________________________________________________\n",
      "dense_4 (Dense)              (None, 128)               16512     \n",
      "_________________________________________________________________\n",
      "leaky_re_lu_4 (LeakyReLU)    (None, 128)               0         \n",
      "_________________________________________________________________\n",
      "dense_5 (Dense)              (None, 128)               16512     \n",
      "_________________________________________________________________\n",
      "leaky_re_lu_5 (LeakyReLU)    (None, 128)               0         \n",
      "_________________________________________________________________\n",
      "dense_6 (Dense)              (None, 128)               16512     \n",
      "_________________________________________________________________\n",
      "leaky_re_lu_6 (LeakyReLU)    (None, 128)               0         \n",
      "_________________________________________________________________\n",
      "dense_7 (Dense)              (None, 64)                8256      \n",
      "=================================================================\n",
      "Total params: 115,648\n",
      "Trainable params: 115,648\n",
      "Non-trainable params: 0\n",
      "_________________________________________________________________\n"
     ]
    }
   ],
   "source": [
    "Input_TNS.summary()"
   ]
  },
  {
   "cell_type": "markdown",
   "metadata": {},
   "source": [
    "### Replace both T and q"
   ]
  },
  {
   "cell_type": "code",
   "execution_count": 24,
   "metadata": {},
   "outputs": [],
   "source": [
    "inp2 = Input(shape=(64,))\n",
    "inpRH = QV2RH(inp_subQ=train_gen.input_transform.sub, \n",
    "              inp_divQ=train_gen.input_transform.div, \n",
    "              inp_subRH=train_gen_RH.input_transform.sub, \n",
    "              inp_divRH=train_gen_RH.input_transform.div, \n",
    "              hyam=hyam, hybm=hybm)(inp2)\n",
    "inpTNS = T2TmTNS(inp_subT=train_gen.input_transform.sub, \n",
    "              inp_divT=train_gen.input_transform.div, \n",
    "              inp_subTNS=train_gen_TNS.input_transform.sub, \n",
    "              inp_divTNS=train_gen_TNS.input_transform.div, \n",
    "              hyam=hyam, hybm=hybm)(inpRH)\n",
    "densout = Dense(128, activation='linear')(inpTNS)\n",
    "densout = LeakyReLU(alpha=0.3)(densout)\n",
    "for i in range (6):\n",
    "    densout = Dense(128, activation='linear')(densout)\n",
    "    densout = LeakyReLU(alpha=0.3)(densout)\n",
    "out2 = Dense(64, activation='linear')(densout)\n",
    "Input_RH_TNS = tf.keras.models.Model(inp2, out2)"
   ]
  },
  {
   "cell_type": "code",
   "execution_count": 25,
   "metadata": {},
   "outputs": [
    {
     "name": "stdout",
     "output_type": "stream",
     "text": [
      "_________________________________________________________________\n",
      "Layer (type)                 Output Shape              Param #   \n",
      "=================================================================\n",
      "input_4 (InputLayer)         (None, 64)                0         \n",
      "_________________________________________________________________\n",
      "q_v2rh (QV2RH)               (None, 64)                0         \n",
      "_________________________________________________________________\n",
      "t2_tm_tns_1 (T2TmTNS)        (None, 64)                0         \n",
      "_________________________________________________________________\n",
      "dense_8 (Dense)              (None, 128)               8320      \n",
      "_________________________________________________________________\n",
      "leaky_re_lu_7 (LeakyReLU)    (None, 128)               0         \n",
      "_________________________________________________________________\n",
      "dense_9 (Dense)              (None, 128)               16512     \n",
      "_________________________________________________________________\n",
      "leaky_re_lu_8 (LeakyReLU)    (None, 128)               0         \n",
      "_________________________________________________________________\n",
      "dense_10 (Dense)             (None, 128)               16512     \n",
      "_________________________________________________________________\n",
      "leaky_re_lu_9 (LeakyReLU)    (None, 128)               0         \n",
      "_________________________________________________________________\n",
      "dense_11 (Dense)             (None, 128)               16512     \n",
      "_________________________________________________________________\n",
      "leaky_re_lu_10 (LeakyReLU)   (None, 128)               0         \n",
      "_________________________________________________________________\n",
      "dense_12 (Dense)             (None, 128)               16512     \n",
      "_________________________________________________________________\n",
      "leaky_re_lu_11 (LeakyReLU)   (None, 128)               0         \n",
      "_________________________________________________________________\n",
      "dense_13 (Dense)             (None, 128)               16512     \n",
      "_________________________________________________________________\n",
      "leaky_re_lu_12 (LeakyReLU)   (None, 128)               0         \n",
      "_________________________________________________________________\n",
      "dense_14 (Dense)             (None, 128)               16512     \n",
      "_________________________________________________________________\n",
      "leaky_re_lu_13 (LeakyReLU)   (None, 128)               0         \n",
      "_________________________________________________________________\n",
      "dense_15 (Dense)             (None, 64)                8256      \n",
      "=================================================================\n",
      "Total params: 115,648\n",
      "Trainable params: 115,648\n",
      "Non-trainable params: 0\n",
      "_________________________________________________________________\n"
     ]
    }
   ],
   "source": [
    "Input_RH_TNS.summary()"
   ]
  },
  {
   "cell_type": "markdown",
   "metadata": {},
   "source": [
    "### Compile and train both models"
   ]
  },
  {
   "cell_type": "code",
   "execution_count": 26,
   "metadata": {},
   "outputs": [],
   "source": [
    "path_HDF5 = '/scratch/07064/tg863631/models/'\n",
    "earlyStopping = EarlyStopping(monitor='val_loss', patience=10, verbose=0, mode='min')\n",
    "mcp_save_TNS = ModelCheckpoint(path_HDF5+'CI01_TNS.hdf5',save_best_only=True, monitor='val_loss', mode='min')\n",
    "mcp_save_RH_TNS = ModelCheckpoint(path_HDF5+'CI01_RH_TNS.hdf5',save_best_only=True, monitor='val_loss', mode='min')"
   ]
  },
  {
   "cell_type": "code",
   "execution_count": 27,
   "metadata": {},
   "outputs": [],
   "source": [
    "Input_TNS.compile(tf.keras.optimizers.Adam(), loss=mse)\n",
    "Input_RH_TNS.compile(tf.keras.optimizers.Adam(), loss=mse)"
   ]
  },
  {
   "cell_type": "code",
   "execution_count": 28,
   "metadata": {},
   "outputs": [
    {
     "name": "stdout",
     "output_type": "stream",
     "text": [
      "Epoch 1/10\n",
      "   32/41376 [..............................] - ETA: 2:44:51 - loss: 5078.6973"
     ]
    },
    {
     "ename": "KeyboardInterrupt",
     "evalue": "",
     "output_type": "error",
     "traceback": [
      "\u001b[0;31m---------------------------------------------------------------------------\u001b[0m",
      "\u001b[0;31mKeyboardInterrupt\u001b[0m                         Traceback (most recent call last)",
      "\u001b[0;32m<ipython-input-28-ed6506c935a4>\u001b[0m in \u001b[0;36m<module>\u001b[0;34m\u001b[0m\n\u001b[1;32m      1\u001b[0m \u001b[0mNep\u001b[0m \u001b[0;34m=\u001b[0m \u001b[0;36m10\u001b[0m\u001b[0;34m\u001b[0m\u001b[0;34m\u001b[0m\u001b[0m\n\u001b[1;32m      2\u001b[0m Input_TNS.fit_generator(train_gen, epochs=Nep, validation_data=valid_gen,\\\n\u001b[0;32m----> 3\u001b[0;31m               callbacks=[earlyStopping, mcp_save_TNS])\n\u001b[0m",
      "\u001b[0;32m~/anaconda3/envs/CbrainCustomLayer/lib/python3.6/site-packages/tensorflow/python/keras/engine/training.py\u001b[0m in \u001b[0;36mfit_generator\u001b[0;34m(self, generator, steps_per_epoch, epochs, verbose, callbacks, validation_data, validation_steps, class_weight, max_queue_size, workers, use_multiprocessing, shuffle, initial_epoch)\u001b[0m\n\u001b[1;32m   2175\u001b[0m         \u001b[0muse_multiprocessing\u001b[0m\u001b[0;34m=\u001b[0m\u001b[0muse_multiprocessing\u001b[0m\u001b[0;34m,\u001b[0m\u001b[0;34m\u001b[0m\u001b[0;34m\u001b[0m\u001b[0m\n\u001b[1;32m   2176\u001b[0m         \u001b[0mshuffle\u001b[0m\u001b[0;34m=\u001b[0m\u001b[0mshuffle\u001b[0m\u001b[0;34m,\u001b[0m\u001b[0;34m\u001b[0m\u001b[0;34m\u001b[0m\u001b[0m\n\u001b[0;32m-> 2177\u001b[0;31m         initial_epoch=initial_epoch)\n\u001b[0m\u001b[1;32m   2178\u001b[0m \u001b[0;34m\u001b[0m\u001b[0m\n\u001b[1;32m   2179\u001b[0m   def evaluate_generator(self,\n",
      "\u001b[0;32m~/anaconda3/envs/CbrainCustomLayer/lib/python3.6/site-packages/tensorflow/python/keras/engine/training_generator.py\u001b[0m in \u001b[0;36mfit_generator\u001b[0;34m(model, generator, steps_per_epoch, epochs, verbose, callbacks, validation_data, validation_steps, class_weight, max_queue_size, workers, use_multiprocessing, shuffle, initial_epoch)\u001b[0m\n\u001b[1;32m    174\u001b[0m \u001b[0;34m\u001b[0m\u001b[0m\n\u001b[1;32m    175\u001b[0m         outs = model.train_on_batch(\n\u001b[0;32m--> 176\u001b[0;31m             x, y, sample_weight=sample_weight, class_weight=class_weight)\n\u001b[0m\u001b[1;32m    177\u001b[0m \u001b[0;34m\u001b[0m\u001b[0m\n\u001b[1;32m    178\u001b[0m         \u001b[0;32mif\u001b[0m \u001b[0;32mnot\u001b[0m \u001b[0misinstance\u001b[0m\u001b[0;34m(\u001b[0m\u001b[0mouts\u001b[0m\u001b[0;34m,\u001b[0m \u001b[0mlist\u001b[0m\u001b[0;34m)\u001b[0m\u001b[0;34m:\u001b[0m\u001b[0;34m\u001b[0m\u001b[0;34m\u001b[0m\u001b[0m\n",
      "\u001b[0;32m~/anaconda3/envs/CbrainCustomLayer/lib/python3.6/site-packages/tensorflow/python/keras/engine/training.py\u001b[0m in \u001b[0;36mtrain_on_batch\u001b[0;34m(self, x, y, sample_weight, class_weight)\u001b[0m\n\u001b[1;32m   1938\u001b[0m \u001b[0;34m\u001b[0m\u001b[0m\n\u001b[1;32m   1939\u001b[0m       \u001b[0mself\u001b[0m\u001b[0;34m.\u001b[0m\u001b[0m_make_train_function\u001b[0m\u001b[0;34m(\u001b[0m\u001b[0;34m)\u001b[0m\u001b[0;34m\u001b[0m\u001b[0;34m\u001b[0m\u001b[0m\n\u001b[0;32m-> 1940\u001b[0;31m       \u001b[0moutputs\u001b[0m \u001b[0;34m=\u001b[0m \u001b[0mself\u001b[0m\u001b[0;34m.\u001b[0m\u001b[0mtrain_function\u001b[0m\u001b[0;34m(\u001b[0m\u001b[0mins\u001b[0m\u001b[0;34m)\u001b[0m\u001b[0;34m\u001b[0m\u001b[0;34m\u001b[0m\u001b[0m\n\u001b[0m\u001b[1;32m   1941\u001b[0m \u001b[0;34m\u001b[0m\u001b[0m\n\u001b[1;32m   1942\u001b[0m     \u001b[0;32mif\u001b[0m \u001b[0mlen\u001b[0m\u001b[0;34m(\u001b[0m\u001b[0moutputs\u001b[0m\u001b[0;34m)\u001b[0m \u001b[0;34m==\u001b[0m \u001b[0;36m1\u001b[0m\u001b[0;34m:\u001b[0m\u001b[0;34m\u001b[0m\u001b[0;34m\u001b[0m\u001b[0m\n",
      "\u001b[0;32m~/anaconda3/envs/CbrainCustomLayer/lib/python3.6/site-packages/tensorflow/python/keras/backend.py\u001b[0m in \u001b[0;36m__call__\u001b[0;34m(self, inputs)\u001b[0m\n\u001b[1;32m   2984\u001b[0m \u001b[0;34m\u001b[0m\u001b[0m\n\u001b[1;32m   2985\u001b[0m     fetched = self._callable_fn(*array_vals,\n\u001b[0;32m-> 2986\u001b[0;31m                                 run_metadata=self.run_metadata)\n\u001b[0m\u001b[1;32m   2987\u001b[0m     \u001b[0mself\u001b[0m\u001b[0;34m.\u001b[0m\u001b[0m_call_fetch_callbacks\u001b[0m\u001b[0;34m(\u001b[0m\u001b[0mfetched\u001b[0m\u001b[0;34m[\u001b[0m\u001b[0;34m-\u001b[0m\u001b[0mlen\u001b[0m\u001b[0;34m(\u001b[0m\u001b[0mself\u001b[0m\u001b[0;34m.\u001b[0m\u001b[0m_fetches\u001b[0m\u001b[0;34m)\u001b[0m\u001b[0;34m:\u001b[0m\u001b[0;34m]\u001b[0m\u001b[0;34m)\u001b[0m\u001b[0;34m\u001b[0m\u001b[0;34m\u001b[0m\u001b[0m\n\u001b[1;32m   2988\u001b[0m     \u001b[0;32mreturn\u001b[0m \u001b[0mfetched\u001b[0m\u001b[0;34m[\u001b[0m\u001b[0;34m:\u001b[0m\u001b[0mlen\u001b[0m\u001b[0;34m(\u001b[0m\u001b[0mself\u001b[0m\u001b[0;34m.\u001b[0m\u001b[0moutputs\u001b[0m\u001b[0;34m)\u001b[0m\u001b[0;34m]\u001b[0m\u001b[0;34m\u001b[0m\u001b[0;34m\u001b[0m\u001b[0m\n",
      "\u001b[0;32m~/anaconda3/envs/CbrainCustomLayer/lib/python3.6/site-packages/tensorflow/python/client/session.py\u001b[0m in \u001b[0;36m__call__\u001b[0;34m(self, *args, **kwargs)\u001b[0m\n\u001b[1;32m   1437\u001b[0m           ret = tf_session.TF_SessionRunCallable(\n\u001b[1;32m   1438\u001b[0m               \u001b[0mself\u001b[0m\u001b[0;34m.\u001b[0m\u001b[0m_session\u001b[0m\u001b[0;34m.\u001b[0m\u001b[0m_session\u001b[0m\u001b[0;34m,\u001b[0m \u001b[0mself\u001b[0m\u001b[0;34m.\u001b[0m\u001b[0m_handle\u001b[0m\u001b[0;34m,\u001b[0m \u001b[0margs\u001b[0m\u001b[0;34m,\u001b[0m \u001b[0mstatus\u001b[0m\u001b[0;34m,\u001b[0m\u001b[0;34m\u001b[0m\u001b[0;34m\u001b[0m\u001b[0m\n\u001b[0;32m-> 1439\u001b[0;31m               run_metadata_ptr)\n\u001b[0m\u001b[1;32m   1440\u001b[0m         \u001b[0;32mif\u001b[0m \u001b[0mrun_metadata\u001b[0m\u001b[0;34m:\u001b[0m\u001b[0;34m\u001b[0m\u001b[0;34m\u001b[0m\u001b[0m\n\u001b[1;32m   1441\u001b[0m           \u001b[0mproto_data\u001b[0m \u001b[0;34m=\u001b[0m \u001b[0mtf_session\u001b[0m\u001b[0;34m.\u001b[0m\u001b[0mTF_GetBuffer\u001b[0m\u001b[0;34m(\u001b[0m\u001b[0mrun_metadata_ptr\u001b[0m\u001b[0;34m)\u001b[0m\u001b[0;34m\u001b[0m\u001b[0;34m\u001b[0m\u001b[0m\n",
      "\u001b[0;31mKeyboardInterrupt\u001b[0m: "
     ]
    }
   ],
   "source": [
    "Nep = 10\n",
    "Input_TNS.fit_generator(train_gen, epochs=Nep, validation_data=valid_gen,\\\n",
    "              callbacks=[earlyStopping, mcp_save_TNS])"
   ]
  },
  {
   "cell_type": "code",
   "execution_count": null,
   "metadata": {},
   "outputs": [],
   "source": [
    "Nep = 10\n",
    "Input_RH_TNS.fit_generator(train_gen, epochs=Nep, validation_data=valid_gen,\\\n",
    "              callbacks=[earlyStopping, mcp_save_RH_TNS])"
   ]
  },
  {
   "cell_type": "code",
   "execution_count": null,
   "metadata": {},
   "outputs": [],
   "source": []
  },
  {
   "cell_type": "markdown",
   "metadata": {},
   "source": [
    "## Build model diagnostics objects"
   ]
  },
  {
   "cell_type": "code",
   "execution_count": 3,
   "metadata": {},
   "outputs": [],
   "source": [
    "from climate_invariant import *"
   ]
  },
  {
   "cell_type": "code",
   "execution_count": 2,
   "metadata": {},
   "outputs": [
    {
     "ename": "NameError",
     "evalue": "name 'SurRadLayer' is not defined",
     "output_type": "error",
     "traceback": [
      "\u001b[0;31m---------------------------------------------------------------------------\u001b[0m",
      "\u001b[0;31mNameError\u001b[0m                                 Traceback (most recent call last)",
      "\u001b[0;32m<ipython-input-2-fe994f89b25f>\u001b[0m in \u001b[0;36m<module>\u001b[0;34m\u001b[0m\n\u001b[1;32m      4\u001b[0m \u001b[0mNNarray\u001b[0m \u001b[0;34m=\u001b[0m \u001b[0;34m[\u001b[0m\u001b[0;34m'CI01_BF.hdf5'\u001b[0m\u001b[0;34m,\u001b[0m \u001b[0;34m'CI01_RH.hdf5'\u001b[0m\u001b[0;34m,\u001b[0m \u001b[0;34m'CI01_TNS.hdf5'\u001b[0m\u001b[0;34m,\u001b[0m\u001b[0;34m'CI01_RH_TNS.hdf5'\u001b[0m\u001b[0;34m]\u001b[0m \u001b[0;31m# NN to evaluate\u001b[0m\u001b[0;34m\u001b[0m\u001b[0;34m\u001b[0m\u001b[0m\n\u001b[1;32m      5\u001b[0m \u001b[0mNNname\u001b[0m \u001b[0;34m=\u001b[0m \u001b[0;34m[\u001b[0m\u001b[0;34m'Vanilla'\u001b[0m\u001b[0;34m,\u001b[0m \u001b[0;34m'RH'\u001b[0m\u001b[0;34m,\u001b[0m \u001b[0;34m'TNS'\u001b[0m\u001b[0;34m,\u001b[0m\u001b[0;34m'TNS RH'\u001b[0m\u001b[0;34m]\u001b[0m \u001b[0;31m# Name of NNs for plotting\u001b[0m\u001b[0;34m\u001b[0m\u001b[0;34m\u001b[0m\u001b[0m\n\u001b[0;32m----> 6\u001b[0;31m dict_lay = {'SurRadLayer':SurRadLayer,'MassConsLayer':MassConsLayer,'EntConsLayer':EntConsLayer, \n\u001b[0m\u001b[1;32m      7\u001b[0m             'T2TmTNS':T2TmTNS,'QV2RH':QV2RH,'eliq':eliq,'eice':eice,'esat':esat,'qv':qv,'RH':RH}\n",
      "\u001b[0;31mNameError\u001b[0m: name 'SurRadLayer' is not defined"
     ]
    }
   ],
   "source": [
    "path_HDF5 = '/scratch/07064/tg863631/models/' # Path to NN weights\n",
    "config_file = 'CI_SP_M4K_CONFIG.yml' # Configuration file\n",
    "data_file = ['CI_SP_M4K_valid.nc','CI_SP_P4K_valid.nc'] # Validation/test data sets\n",
    "NNarray = ['CI01_BF.hdf5', 'CI01_RH.hdf5', 'CI01_TNS.hdf5','CI01_RH_TNS.hdf5'] # NN to evaluate\n",
    "NNname = ['Vanilla', 'RH', 'TNS','TNS RH'] # Name of NNs for plotting\n",
    "dict_lay = {'SurRadLayer':SurRadLayer,'MassConsLayer':MassConsLayer,'EntConsLayer':EntConsLayer, \n",
    "            'T2TmTNS':T2TmTNS,'QV2RH':QV2RH,'eliq':eliq,'eice':eice,'esat':esat,'qv':qv,'RH':RH}"
   ]
  },
  {
   "cell_type": "code",
   "execution_count": 5,
   "metadata": {},
   "outputs": [],
   "source": [
    "# Indices of different variables\n",
    "PHQ_idx = slice(0,30)\n",
    "TPHYSTND_idx = slice(30,60)"
   ]
  },
  {
   "cell_type": "markdown",
   "metadata": {},
   "source": [
    "Build model diagnostics object for each NN and each validation/test dataset"
   ]
  },
  {
   "cell_type": "code",
   "execution_count": 1,
   "metadata": {},
   "outputs": [
    {
     "ename": "NameError",
     "evalue": "name 'NNarray' is not defined",
     "output_type": "error",
     "traceback": [
      "\u001b[0;31m---------------------------------------------------------------------------\u001b[0m",
      "\u001b[0;31mNameError\u001b[0m                                 Traceback (most recent call last)",
      "\u001b[0;32m<ipython-input-1-a219b5728dab>\u001b[0m in \u001b[0;36m<module>\u001b[0;34m\u001b[0m\n\u001b[1;32m      1\u001b[0m \u001b[0mNN\u001b[0m \u001b[0;34m=\u001b[0m \u001b[0;34m{\u001b[0m\u001b[0;34m}\u001b[0m\u001b[0;34m;\u001b[0m \u001b[0mmd\u001b[0m \u001b[0;34m=\u001b[0m \u001b[0;34m{\u001b[0m\u001b[0;34m}\u001b[0m\u001b[0;34m;\u001b[0m\u001b[0;34m\u001b[0m\u001b[0;34m\u001b[0m\u001b[0m\n\u001b[1;32m      2\u001b[0m \u001b[0;31m# %cd $TRAINDIR/HDF5_DATA\u001b[0m\u001b[0;34m\u001b[0m\u001b[0;34m\u001b[0m\u001b[0;34m\u001b[0m\u001b[0m\n\u001b[0;32m----> 3\u001b[0;31m \u001b[0;32mfor\u001b[0m \u001b[0mi\u001b[0m\u001b[0;34m,\u001b[0m\u001b[0mNNs\u001b[0m \u001b[0;32min\u001b[0m \u001b[0menumerate\u001b[0m\u001b[0;34m(\u001b[0m\u001b[0mNNarray\u001b[0m\u001b[0;34m)\u001b[0m\u001b[0;34m:\u001b[0m\u001b[0;34m\u001b[0m\u001b[0;34m\u001b[0m\u001b[0m\n\u001b[0m\u001b[1;32m      4\u001b[0m     \u001b[0mprint\u001b[0m\u001b[0;34m(\u001b[0m\u001b[0;34m'NN name is '\u001b[0m\u001b[0;34m,\u001b[0m\u001b[0mNNs\u001b[0m\u001b[0;34m)\u001b[0m\u001b[0;34m\u001b[0m\u001b[0;34m\u001b[0m\u001b[0m\n\u001b[1;32m      5\u001b[0m     \u001b[0mpath\u001b[0m \u001b[0;34m=\u001b[0m \u001b[0mpath_HDF5\u001b[0m\u001b[0;34m+\u001b[0m\u001b[0mNNs\u001b[0m\u001b[0;34m\u001b[0m\u001b[0;34m\u001b[0m\u001b[0m\n",
      "\u001b[0;31mNameError\u001b[0m: name 'NNarray' is not defined"
     ]
    }
   ],
   "source": [
    "NN = {}; md = {};\n",
    "# %cd $TRAINDIR/HDF5_DATA\n",
    "for i,NNs in enumerate(NNarray):\n",
    "    print('NN name is ',NNs)\n",
    "    path = path_HDF5+NNs\n",
    "    NN[NNs] = load_model(path,custom_objects=dict_lay)\n",
    "    md[NNs] = {}\n",
    "    for j,data in enumerate(data_file):\n",
    "        print('data name is ',data)\n",
    "        md[NNs][data[6:-3]] = ModelDiagnostics(NN[NNs],\n",
    "                                                '/home1/07064/tg863631/CBrain_project/PrepData/'+config_file,\n",
    "                                                TRAINDIR+data)"
   ]
  },
  {
   "cell_type": "markdown",
   "metadata": {},
   "source": [
    "Loop over timesteps of the validation/test datasets and concatenate the prediction/truth of the networks. Note that the truths are the same for different NNs because we use the same inputs & outputs.\n"
   ]
  },
  {
   "cell_type": "code",
   "execution_count": 20,
   "metadata": {},
   "outputs": [
    {
     "name": "stdout",
     "output_type": "stream",
     "text": [
      "i= 0 & NNs= CI01_BF.hdf5          \n",
      "j= 0 & data= CI_SP_M4K_valid.nc          \r"
     ]
    },
    {
     "name": "stderr",
     "output_type": "stream",
     "text": [
      "/home1/07064/tg863631/anaconda3/envs/CbrainCustomLayer/lib/python3.6/site-packages/ipykernel_launcher.py:14: TqdmDeprecationWarning: This function will be removed in tqdm==5.0.0\n",
      "Please use `tqdm.notebook.tqdm` instead of `tqdm.tqdm_notebook`\n",
      "  \n"
     ]
    },
    {
     "data": {
      "application/vnd.jupyter.widget-view+json": {
       "model_id": "b1fa5a08ad96451ba3f8a0e713a69a18",
       "version_major": 2,
       "version_minor": 0
      },
      "text/plain": [
       "HBox(children=(FloatProgress(value=0.0, max=47.0), HTML(value='')))"
      ]
     },
     "metadata": {},
     "output_type": "display_data"
    },
    {
     "name": "stdout",
     "output_type": "stream",
     "text": [
      "\n",
      "j= 1 & data= CI_SP_P4K_valid.nc          \r"
     ]
    },
    {
     "data": {
      "application/vnd.jupyter.widget-view+json": {
       "model_id": "610ac6c088954fd4b95bc7b406a2edee",
       "version_major": 2,
       "version_minor": 0
      },
      "text/plain": [
       "HBox(children=(FloatProgress(value=0.0, max=47.0), HTML(value='')))"
      ]
     },
     "metadata": {},
     "output_type": "display_data"
    },
    {
     "name": "stdout",
     "output_type": "stream",
     "text": [
      "\n",
      "i= 1 & NNs= CI01_RH.hdf5          \n",
      "j= 0 & data= CI_SP_M4K_valid.nc          \r"
     ]
    },
    {
     "data": {
      "application/vnd.jupyter.widget-view+json": {
       "model_id": "0e81c0f1b4804f97be04f0deeda8429d",
       "version_major": 2,
       "version_minor": 0
      },
      "text/plain": [
       "HBox(children=(FloatProgress(value=0.0, max=47.0), HTML(value='')))"
      ]
     },
     "metadata": {},
     "output_type": "display_data"
    },
    {
     "name": "stdout",
     "output_type": "stream",
     "text": [
      "\n",
      "j= 1 & data= CI_SP_P4K_valid.nc          \r"
     ]
    },
    {
     "data": {
      "application/vnd.jupyter.widget-view+json": {
       "model_id": "fdfac537349b4f6db8da3f0a659225a7",
       "version_major": 2,
       "version_minor": 0
      },
      "text/plain": [
       "HBox(children=(FloatProgress(value=0.0, max=47.0), HTML(value='')))"
      ]
     },
     "metadata": {},
     "output_type": "display_data"
    },
    {
     "name": "stdout",
     "output_type": "stream",
     "text": [
      "\n",
      "i= 2 & NNs= CI01_TNS.hdf5          \n",
      "j= 0 & data= CI_SP_M4K_valid.nc          \r"
     ]
    },
    {
     "data": {
      "application/vnd.jupyter.widget-view+json": {
       "model_id": "260878f6bd434e5bac6e46e825964437",
       "version_major": 2,
       "version_minor": 0
      },
      "text/plain": [
       "HBox(children=(FloatProgress(value=0.0, max=47.0), HTML(value='')))"
      ]
     },
     "metadata": {},
     "output_type": "display_data"
    },
    {
     "name": "stdout",
     "output_type": "stream",
     "text": [
      "\n",
      "j= 1 & data= CI_SP_P4K_valid.nc          \r"
     ]
    },
    {
     "data": {
      "application/vnd.jupyter.widget-view+json": {
       "model_id": "b83b654fccbf402bae78dd1f0ff6a09d",
       "version_major": 2,
       "version_minor": 0
      },
      "text/plain": [
       "HBox(children=(FloatProgress(value=0.0, max=47.0), HTML(value='')))"
      ]
     },
     "metadata": {},
     "output_type": "display_data"
    },
    {
     "name": "stdout",
     "output_type": "stream",
     "text": [
      "\n",
      "i= 3 & NNs= CI01_RH_TNS.hdf5          \n",
      "j= 0 & data= CI_SP_M4K_valid.nc          \r"
     ]
    },
    {
     "data": {
      "application/vnd.jupyter.widget-view+json": {
       "model_id": "fc797c1b4e79499bac5a77035a591f49",
       "version_major": 2,
       "version_minor": 0
      },
      "text/plain": [
       "HBox(children=(FloatProgress(value=0.0, max=47.0), HTML(value='')))"
      ]
     },
     "metadata": {},
     "output_type": "display_data"
    },
    {
     "name": "stdout",
     "output_type": "stream",
     "text": [
      "\n",
      "j= 1 & data= CI_SP_P4K_valid.nc          \r"
     ]
    },
    {
     "data": {
      "application/vnd.jupyter.widget-view+json": {
       "model_id": "35fe847be39941c3a9d4b6c67aba6099",
       "version_major": 2,
       "version_minor": 0
      },
      "text/plain": [
       "HBox(children=(FloatProgress(value=0.0, max=47.0), HTML(value='')))"
      ]
     },
     "metadata": {},
     "output_type": "display_data"
    },
    {
     "name": "stdout",
     "output_type": "stream",
     "text": [
      "\n"
     ]
    }
   ],
   "source": [
    "lat_ind = np.arange(26,40)\n",
    "iini = 1500 # Initial time to sample\n",
    "iend = iini+47 # One day later\n",
    "\n",
    "diagno = {} # Diagnostics structure\n",
    "diagno['truth'] = {} # Diagnostics structure for the truth\n",
    "for i,NNs in enumerate(NNarray):\n",
    "    print('i=',i,'& NNs=',NNs,'         ')\n",
    "    diagno[NNs] = {} # Diagnostics structure for each NN\n",
    "    for j,data in enumerate(data_file):\n",
    "        diagno[NNs][data[6:-3]] = {} # Diagnostics structure for each data file\n",
    "        if i==0: diagno['truth'][data[6:-3]] = {}\n",
    "        print('j=',j,'& data=',data,'         ',end='\\r')\n",
    "        for itime in tqdm(np.arange(iini,iend)):\n",
    "            # Get input, prediction and truth from NN\n",
    "            inp, p, truth = md[NNs][data[6:-3]].get_inp_pred_truth(itime)  # [lat, lon, var, lev]\n",
    "            # Get convective heating and moistening for each NN\n",
    "            if itime==iini:\n",
    "                if i==0:\n",
    "                    diagno['truth'][data[6:-3]]['PHQ'] = md[NNs][data[6:-3]].reshape_ngeo(truth[:,PHQ_idx])[lat_ind,:,:,np.newaxis]\n",
    "                    diagno['truth'][data[6:-3]]['TPHYSTND'] = md[NNs][data[6:-3]].reshape_ngeo(truth[:,TPHYSTND_idx])[lat_ind,:,:,np.newaxis]\n",
    "                diagno[NNs][data[6:-3]]['PHQ'] = md[NNs][data[6:-3]].reshape_ngeo(p[:,PHQ_idx])[lat_ind,:,:,np.newaxis]\n",
    "                diagno[NNs][data[6:-3]]['TPHYSTND'] = md[NNs][data[6:-3]].reshape_ngeo(p[:,TPHYSTND_idx])[lat_ind,:,:,np.newaxis]\n",
    "            else:\n",
    "                for istr,field in enumerate(['PHQ','TPHYSTND']):\n",
    "                    if field=='PHQ': ind_field = PHQ_idx\n",
    "                    elif field=='TPHYSTND': ind_field = TPHYSTND_idx\n",
    "                    diagno[NNs][data[6:-3]][field] = np.concatenate((diagno[NNs][data[6:-3]][field],\n",
    "                                                         md[NNs][data[6:-3]].\\\n",
    "                                                         reshape_ngeo(p[:,ind_field])[lat_ind,:,:,np.newaxis]),\n",
    "                                                        axis=3)\n",
    "                    if i==0:\n",
    "                        diagno['truth'][data[6:-3]][field] = np.concatenate((diagno['truth'][data[6:-3]][field],\n",
    "                                                                 md[NNs][data[6:-3]].\\\n",
    "                                                                 reshape_ngeo(truth[:,ind_field])[lat_ind,:,:,np.newaxis]),\n",
    "                                                                axis=3)\n"
   ]
  },
  {
   "cell_type": "code",
   "execution_count": 21,
   "metadata": {},
   "outputs": [],
   "source": [
    "# Load coordinates (just pick any file from the climate model run)\n",
    "coor = xr.open_dataset(\"/scratch/05823/tg851228/CBRAIN/sp8fbp_minus4k/sp8fbp_minus4k.cam2.h1.0000-01-01-00000.nc\",\\\n",
    "                    decode_times=False)\n",
    "lat = coor.lat; lon = coor.lon; lev = coor.lev;\n",
    "coor.close();"
   ]
  },
  {
   "cell_type": "code",
   "execution_count": 22,
   "metadata": {},
   "outputs": [
    {
     "data": {
      "text/html": [
       "<pre>&lt;xarray.DataArray &#x27;lat&#x27; (lat: 14)&gt;\n",
       "array([-15.348365, -12.557756,  -9.767146,  -6.976534,  -4.185921,  -1.395307,\n",
       "         1.395307,   4.185921,   6.976534,   9.767146,  12.557756,  15.348365,\n",
       "        18.138971,  20.929574])\n",
       "Coordinates:\n",
       "  * lat      (lat) float64 -15.35 -12.56 -9.767 -6.977 ... 15.35 18.14 20.93\n",
       "Attributes:\n",
       "    long_name:  latitude\n",
       "    units:      degrees_north</pre>"
      ],
      "text/plain": [
       "<xarray.DataArray 'lat' (lat: 14)>\n",
       "array([-15.348365, -12.557756,  -9.767146,  -6.976534,  -4.185921,  -1.395307,\n",
       "         1.395307,   4.185921,   6.976534,   9.767146,  12.557756,  15.348365,\n",
       "        18.138971,  20.929574])\n",
       "Coordinates:\n",
       "  * lat      (lat) float64 -15.35 -12.56 -9.767 -6.977 ... 15.35 18.14 20.93\n",
       "Attributes:\n",
       "    long_name:  latitude\n",
       "    units:      degrees_north"
      ]
     },
     "execution_count": 22,
     "metadata": {},
     "output_type": "execute_result"
    }
   ],
   "source": [
    "coor.lat[26:40] # A tropical latitude range that we can use for testing\n"
   ]
  },
  {
   "cell_type": "code",
   "execution_count": 23,
   "metadata": {},
   "outputs": [
    {
     "data": {
      "text/html": [
       "<pre>&lt;xarray.DataArray &#x27;lat&#x27; (lat: 7)&gt;\n",
       "array([-51.625734, -48.835241, -46.044727, -43.254195, -40.463648, -37.67309 ,\n",
       "       -34.882521])\n",
       "Coordinates:\n",
       "  * lat      (lat) float64 -51.63 -48.84 -46.04 -43.25 -40.46 -37.67 -34.88\n",
       "Attributes:\n",
       "    long_name:  latitude\n",
       "    units:      degrees_north</pre>"
      ],
      "text/plain": [
       "<xarray.DataArray 'lat' (lat: 7)>\n",
       "array([-51.625734, -48.835241, -46.044727, -43.254195, -40.463648, -37.67309 ,\n",
       "       -34.882521])\n",
       "Coordinates:\n",
       "  * lat      (lat) float64 -51.63 -48.84 -46.04 -43.25 -40.46 -37.67 -34.88\n",
       "Attributes:\n",
       "    long_name:  latitude\n",
       "    units:      degrees_north"
      ]
     },
     "execution_count": 23,
     "metadata": {},
     "output_type": "execute_result"
    }
   ],
   "source": [
    "coor.lat[13:20] # A mid-latitude range that we can use for testing\n"
   ]
  },
  {
   "cell_type": "code",
   "execution_count": 24,
   "metadata": {},
   "outputs": [
    {
     "data": {
      "text/html": [
       "<pre>&lt;xarray.DataArray &#x27;lat&#x27; (lat: 7)&gt;\n",
       "array([-87.863799, -85.096527, -82.312913, -79.525607, -76.7369  , -73.947515,\n",
       "       -71.157752])\n",
       "Coordinates:\n",
       "  * lat      (lat) float64 -87.86 -85.1 -82.31 -79.53 -76.74 -73.95 -71.16\n",
       "Attributes:\n",
       "    long_name:  latitude\n",
       "    units:      degrees_north</pre>"
      ],
      "text/plain": [
       "<xarray.DataArray 'lat' (lat: 7)>\n",
       "array([-87.863799, -85.096527, -82.312913, -79.525607, -76.7369  , -73.947515,\n",
       "       -71.157752])\n",
       "Coordinates:\n",
       "  * lat      (lat) float64 -87.86 -85.1 -82.31 -79.53 -76.74 -73.95 -71.16\n",
       "Attributes:\n",
       "    long_name:  latitude\n",
       "    units:      degrees_north"
      ]
     },
     "execution_count": 24,
     "metadata": {},
     "output_type": "execute_result"
    }
   ],
   "source": [
    "coor.lat[0:7] # A polar range that we can use for testing\n"
   ]
  },
  {
   "cell_type": "code",
   "execution_count": 25,
   "metadata": {},
   "outputs": [],
   "source": [
    "# Plot characteristics\n",
    "fz = 20\n",
    "lw = 4\n",
    "plt.rc('text', usetex=True)\n",
    "plt.rc('font',size=fz)\n",
    "#plt.rc('font',**{'family':'serif','serif':['Computer Modern Roman']}, size=fz)\n",
    "mpl.rcParams['lines.linewidth'] = lw\n",
    "plt.close('all')"
   ]
  },
  {
   "cell_type": "code",
   "execution_count": 26,
   "metadata": {},
   "outputs": [
    {
     "data": {
      "text/plain": [
       "dict_keys(['M4K_valid', 'P4K_valid'])"
      ]
     },
     "execution_count": 26,
     "metadata": {},
     "output_type": "execute_result"
    }
   ],
   "source": [
    "diagno['truth'].keys()\n"
   ]
  },
  {
   "cell_type": "markdown",
   "metadata": {},
   "source": [
    "\n",
    "Validation on the (-4K) dataset: Both network perform relatively well"
   ]
  },
  {
   "cell_type": "code",
   "execution_count": 27,
   "metadata": {},
   "outputs": [],
   "source": [
    "from matplotlib import rc\n",
    "rc('font',**{'family':'sans-serif','sans-serif':['Helvetica']})\n",
    "## for Palatino and other serif fonts use:\n",
    "#rc('font',**{'family':'serif','serif':['Palatino']})\n",
    "rc('text', usetex=True)\n",
    "os.environ['PATH'] = os.environ['PATH'] + ':/home1/apps/texlive/2017/bin/x86_64-linux/latex'\n",
    "%matplotlib inline"
   ]
  },
  {
   "cell_type": "code",
   "execution_count": 28,
   "metadata": {},
   "outputs": [
    {
     "data": {
      "text/plain": [
       "(-9, 9)"
      ]
     },
     "execution_count": 28,
     "metadata": {},
     "output_type": "execute_result"
    },
    {
     "data": {
      "image/png": "[encoded data removed]",
      "text/plain": [
       "<Figure size 720x360 with 2 Axes>"
      ]
     },
     "metadata": {
      "needs_background": "light"
     },
     "output_type": "display_data"
    }
   ],
   "source": [
    "data = 'M4K_valid'\n",
    "\n",
    "plt.figure(figsize=(10,5))\n",
    "\n",
    "plt.subplot(1,2,1)\n",
    "plt.axvline(x=0,c='lightgray')\n",
    "for iNN,NNs in enumerate(NNarray[:]):\n",
    "    plt.plot(np.mean(diagno[NNs][data]['PHQ'],axis=(0,1,3)),lev,label=NNname[iNN])\n",
    "plt.plot(np.mean(diagno['truth'][data]['PHQ'],axis=(0,1,3)),lev,label='Truth',color='k')\n",
    "plt.legend()\n",
    "plt.xlabel('Convective moistening ($\\mathrm{W\\ m^{-2}}$)')\n",
    "plt.ylabel('Pressure (hPa)')\n",
    "plt.gca().invert_yaxis()\n",
    "#plt.xlim((-20,20))\n",
    "\n",
    "plt.subplot(1,2,2)\n",
    "plt.axvline(x=0,c='lightgray')\n",
    "for iNN,NNs in enumerate(NNarray[:]):\n",
    "    plt.plot(np.mean(diagno[NNs][data]['TPHYSTND'],axis=(0,1,3)),lev,label=NNname[iNN])\n",
    "plt.plot(np.mean(diagno['truth'][data]['TPHYSTND'],axis=(0,1,3)),lev,label='Truth',color='k')\n",
    "plt.legend()\n",
    "plt.xlabel('Convective heating ($\\mathrm{W\\ m^{-2}}$)')\n",
    "plt.gca().invert_yaxis()\n",
    "plt.xlim((-9,9))\n"
   ]
  },
  {
   "cell_type": "markdown",
   "metadata": {},
   "source": [
    "On (+4K), the brute force is terrible and the RH is already an improvement"
   ]
  },
  {
   "cell_type": "code",
   "execution_count": 29,
   "metadata": {},
   "outputs": [
    {
     "data": {
      "image/png": "[encoded data removed]",
      "text/plain": [
       "<Figure size 720x360 with 2 Axes>"
      ]
     },
     "metadata": {
      "needs_background": "light"
     },
     "output_type": "display_data"
    }
   ],
   "source": [
    "data = 'P4K_valid'\n",
    "\n",
    "plt.figure(figsize=(10,5))\n",
    "\n",
    "plt.subplot(1,2,1)\n",
    "plt.axvline(x=0,c='lightgray')\n",
    "for iNN,NNs in enumerate(NNarray[:]):\n",
    "    plt.plot(np.mean(diagno[NNs][data]['PHQ'],axis=(0,1,3)),lev,label=NNname[iNN])\n",
    "plt.plot(np.mean(diagno['truth'][data]['PHQ'],axis=(0,1,3)),lev,label='Truth',color='k')\n",
    "plt.legend()\n",
    "plt.xlabel('Convective moistening ($\\mathrm{W\\ m^{-2}}$)')\n",
    "plt.ylabel('Pressure (hPa)')\n",
    "plt.gca().invert_yaxis()\n",
    "#plt.xlim((-20,20))\n",
    "\n",
    "plt.subplot(1,2,2)\n",
    "plt.axvline(x=0,c='lightgray')\n",
    "for iNN,NNs in enumerate(NNarray[:]):\n",
    "    plt.plot(np.mean(diagno[NNs][data]['TPHYSTND'],axis=(0,1,3)),lev,label=NNname[iNN])\n",
    "plt.plot(np.mean(diagno['truth'][data]['TPHYSTND'],axis=(0,1,3)),lev,label='Truth',color='k')\n",
    "plt.legend()\n",
    "plt.xlabel('Convective heating ($\\mathrm{W\\ m^{-2}}$)')\n",
    "plt.gca().invert_yaxis()\n",
    "#plt.xlim((-9,9))"
   ]
  },
  {
   "cell_type": "code",
   "execution_count": null,
   "metadata": {},
   "outputs": [],
   "source": []
  }
 ],
 "metadata": {
  "kernelspec": {
   "display_name": "Python 3",
   "language": "python",
   "name": "python3"
  },
  "language_info": {
   "codemirror_mode": {
    "name": "ipython",
    "version": 3
   },
   "file_extension": ".py",
   "mimetype": "text/x-python",
   "name": "python",
   "nbconvert_exporter": "python",
   "pygments_lexer": "ipython3",
   "version": "3.6.10"
  }
 },
 "nbformat": 4,
 "nbformat_minor": 2
}
